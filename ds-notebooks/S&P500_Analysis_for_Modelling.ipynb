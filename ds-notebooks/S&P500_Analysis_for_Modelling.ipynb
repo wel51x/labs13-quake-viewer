{
  "nbformat": 4,
  "nbformat_minor": 0,
  "metadata": {
    "colab": {
      "name": "Lambda_Labs_SP500_Analysis_for_Modelling.ipynb",
      "version": "0.3.2",
      "provenance": [],
      "collapsed_sections": []
    },
    "kernelspec": {
      "name": "python3",
      "display_name": "Python 3"
    }
  },
  "cells": [
    {
      "cell_type": "code",
      "metadata": {
        "id": "XeVKNUYv1zNm",
        "colab_type": "code",
        "colab": {}
      },
      "source": [
        "import pandas as pd\n",
        "import numpy as np\n",
        "import matplotlib.pyplot as plt\n",
        "import seaborn as sns\n",
        "import datetime"
      ],
      "execution_count": 0,
      "outputs": []
    },
    {
      "cell_type": "code",
      "metadata": {
        "id": "q6oVEBw51-ql",
        "colab_type": "code",
        "outputId": "e8f5c59c-feb0-4cb1-a796-a20af4cf20aa",
        "colab": {
          "base_uri": "https://localhost:8080/",
          "height": 34
        }
      },
      "source": [
        "sp500 = pd.read_csv(\"https://raw.githubusercontent.com/labs13-quake-viewer/ds-data/master/S%26P%20500.csv\")\n",
        "sp500.shape"
      ],
      "execution_count": 2,
      "outputs": [
        {
          "output_type": "execute_result",
          "data": {
            "text/plain": [
              "(17465, 2)"
            ]
          },
          "metadata": {
            "tags": []
          },
          "execution_count": 2
        }
      ]
    },
    {
      "cell_type": "code",
      "metadata": {
        "id": "x3xfafyl3CAy",
        "colab_type": "code",
        "outputId": "30f0e1a7-335b-48f5-e4cb-bcd971fb37d3",
        "colab": {
          "base_uri": "https://localhost:8080/",
          "height": 297
        }
      },
      "source": [
        "sp500.describe()"
      ],
      "execution_count": 3,
      "outputs": [
        {
          "output_type": "execute_result",
          "data": {
            "text/html": [
              "<div>\n",
              "<style scoped>\n",
              "    .dataframe tbody tr th:only-of-type {\n",
              "        vertical-align: middle;\n",
              "    }\n",
              "\n",
              "    .dataframe tbody tr th {\n",
              "        vertical-align: top;\n",
              "    }\n",
              "\n",
              "    .dataframe thead th {\n",
              "        text-align: right;\n",
              "    }\n",
              "</style>\n",
              "<table border=\"1\" class=\"dataframe\">\n",
              "  <thead>\n",
              "    <tr style=\"text-align: right;\">\n",
              "      <th></th>\n",
              "      <th>Close</th>\n",
              "    </tr>\n",
              "  </thead>\n",
              "  <tbody>\n",
              "    <tr>\n",
              "      <th>count</th>\n",
              "      <td>17465.000000</td>\n",
              "    </tr>\n",
              "    <tr>\n",
              "      <th>mean</th>\n",
              "      <td>581.980665</td>\n",
              "    </tr>\n",
              "    <tr>\n",
              "      <th>std</th>\n",
              "      <td>695.673875</td>\n",
              "    </tr>\n",
              "    <tr>\n",
              "      <th>min</th>\n",
              "      <td>16.660000</td>\n",
              "    </tr>\n",
              "    <tr>\n",
              "      <th>25%</th>\n",
              "      <td>86.070000</td>\n",
              "    </tr>\n",
              "    <tr>\n",
              "      <th>50%</th>\n",
              "      <td>167.470001</td>\n",
              "    </tr>\n",
              "    <tr>\n",
              "      <th>75%</th>\n",
              "      <td>1101.750000</td>\n",
              "    </tr>\n",
              "    <tr>\n",
              "      <th>max</th>\n",
              "      <td>2945.830078</td>\n",
              "    </tr>\n",
              "  </tbody>\n",
              "</table>\n",
              "</div>"
            ],
            "text/plain": [
              "              Close\n",
              "count  17465.000000\n",
              "mean     581.980665\n",
              "std      695.673875\n",
              "min       16.660000\n",
              "25%       86.070000\n",
              "50%      167.470001\n",
              "75%     1101.750000\n",
              "max     2945.830078"
            ]
          },
          "metadata": {
            "tags": []
          },
          "execution_count": 3
        }
      ]
    },
    {
      "cell_type": "code",
      "metadata": {
        "id": "qSnGqzly3Jq-",
        "colab_type": "code",
        "outputId": "413f8545-79ba-49d1-911a-e2e285fdd528",
        "colab": {
          "base_uri": "https://localhost:8080/",
          "height": 68
        }
      },
      "source": [
        "(sp500 == 0).sum()"
      ],
      "execution_count": 0,
      "outputs": [
        {
          "output_type": "execute_result",
          "data": {
            "text/plain": [
              "Date     0\n",
              "Close    0\n",
              "dtype: int64"
            ]
          },
          "metadata": {
            "tags": []
          },
          "execution_count": 4
        }
      ]
    },
    {
      "cell_type": "code",
      "metadata": {
        "id": "uckoxhL83Mhl",
        "colab_type": "code",
        "outputId": "47748bff-171b-4138-87bc-b367b13be06c",
        "colab": {
          "base_uri": "https://localhost:8080/",
          "height": 136
        }
      },
      "source": [
        "sp500.info()"
      ],
      "execution_count": 4,
      "outputs": [
        {
          "output_type": "stream",
          "text": [
            "<class 'pandas.core.frame.DataFrame'>\n",
            "RangeIndex: 17465 entries, 0 to 17464\n",
            "Data columns (total 2 columns):\n",
            "Date     17465 non-null object\n",
            "Close    17465 non-null float64\n",
            "dtypes: float64(1), object(1)\n",
            "memory usage: 273.0+ KB\n"
          ],
          "name": "stdout"
        }
      ]
    },
    {
      "cell_type": "code",
      "metadata": {
        "id": "27vQ5zQ45bG-",
        "colab_type": "code",
        "outputId": "4b01e8cf-b0c7-4f65-e6b6-b894162a3270",
        "colab": {
          "base_uri": "https://localhost:8080/",
          "height": 421
        }
      },
      "source": [
        "sp500.sample(12)"
      ],
      "execution_count": 6,
      "outputs": [
        {
          "output_type": "execute_result",
          "data": {
            "text/html": [
              "<div>\n",
              "<style scoped>\n",
              "    .dataframe tbody tr th:only-of-type {\n",
              "        vertical-align: middle;\n",
              "    }\n",
              "\n",
              "    .dataframe tbody tr th {\n",
              "        vertical-align: top;\n",
              "    }\n",
              "\n",
              "    .dataframe thead th {\n",
              "        text-align: right;\n",
              "    }\n",
              "</style>\n",
              "<table border=\"1\" class=\"dataframe\">\n",
              "  <thead>\n",
              "    <tr style=\"text-align: right;\">\n",
              "      <th></th>\n",
              "      <th>Date</th>\n",
              "      <th>Close</th>\n",
              "    </tr>\n",
              "  </thead>\n",
              "  <tbody>\n",
              "    <tr>\n",
              "      <th>3884</th>\n",
              "      <td>6/17/65</td>\n",
              "      <td>85.739998</td>\n",
              "    </tr>\n",
              "    <tr>\n",
              "      <th>5793</th>\n",
              "      <td>2/22/73</td>\n",
              "      <td>114.440002</td>\n",
              "    </tr>\n",
              "    <tr>\n",
              "      <th>12021</th>\n",
              "      <td>10/10/97</td>\n",
              "      <td>966.979980</td>\n",
              "    </tr>\n",
              "    <tr>\n",
              "      <th>1526</th>\n",
              "      <td>2/3/56</td>\n",
              "      <td>44.779999</td>\n",
              "    </tr>\n",
              "    <tr>\n",
              "      <th>9721</th>\n",
              "      <td>9/7/88</td>\n",
              "      <td>265.869995</td>\n",
              "    </tr>\n",
              "    <tr>\n",
              "      <th>6019</th>\n",
              "      <td>1/15/74</td>\n",
              "      <td>94.230003</td>\n",
              "    </tr>\n",
              "    <tr>\n",
              "      <th>12420</th>\n",
              "      <td>5/13/99</td>\n",
              "      <td>1367.560059</td>\n",
              "    </tr>\n",
              "    <tr>\n",
              "      <th>10062</th>\n",
              "      <td>1/12/90</td>\n",
              "      <td>339.929993</td>\n",
              "    </tr>\n",
              "    <tr>\n",
              "      <th>4929</th>\n",
              "      <td>9/22/69</td>\n",
              "      <td>95.629997</td>\n",
              "    </tr>\n",
              "    <tr>\n",
              "      <th>3483</th>\n",
              "      <td>11/12/63</td>\n",
              "      <td>73.230003</td>\n",
              "    </tr>\n",
              "    <tr>\n",
              "      <th>7918</th>\n",
              "      <td>7/22/81</td>\n",
              "      <td>127.129997</td>\n",
              "    </tr>\n",
              "    <tr>\n",
              "      <th>5321</th>\n",
              "      <td>4/8/71</td>\n",
              "      <td>102.099998</td>\n",
              "    </tr>\n",
              "  </tbody>\n",
              "</table>\n",
              "</div>"
            ],
            "text/plain": [
              "           Date        Close\n",
              "3884    6/17/65    85.739998\n",
              "5793    2/22/73   114.440002\n",
              "12021  10/10/97   966.979980\n",
              "1526     2/3/56    44.779999\n",
              "9721     9/7/88   265.869995\n",
              "6019    1/15/74    94.230003\n",
              "12420   5/13/99  1367.560059\n",
              "10062   1/12/90   339.929993\n",
              "4929    9/22/69    95.629997\n",
              "3483   11/12/63    73.230003\n",
              "7918    7/22/81   127.129997\n",
              "5321     4/8/71   102.099998"
            ]
          },
          "metadata": {
            "tags": []
          },
          "execution_count": 6
        }
      ]
    },
    {
      "cell_type": "code",
      "metadata": {
        "id": "VYzkZ2lzsSsg",
        "colab_type": "code",
        "colab": {}
      },
      "source": [
        "dates=[]\n",
        "for i in sp500['Date']:\n",
        "  dd = datetime.datetime.strptime(i,'%m/%d/%y')\n",
        "  if dd.year > 2019:\n",
        "    dd = dd.replace(year=dd.year-100)\n",
        "  dates.append(dd.strftime( '%Y-%m-%d' ))\n",
        "sp500['Date'] = dates"
      ],
      "execution_count": 0,
      "outputs": []
    },
    {
      "cell_type": "code",
      "metadata": {
        "id": "nqkMd05t_ycb",
        "colab_type": "code",
        "outputId": "3d8a429e-945e-4b2a-e473-9fb6c887ebe0",
        "colab": {
          "base_uri": "https://localhost:8080/",
          "height": 421
        }
      },
      "source": [
        "sp500.head(12)"
      ],
      "execution_count": 8,
      "outputs": [
        {
          "output_type": "execute_result",
          "data": {
            "text/html": [
              "<div>\n",
              "<style scoped>\n",
              "    .dataframe tbody tr th:only-of-type {\n",
              "        vertical-align: middle;\n",
              "    }\n",
              "\n",
              "    .dataframe tbody tr th {\n",
              "        vertical-align: top;\n",
              "    }\n",
              "\n",
              "    .dataframe thead th {\n",
              "        text-align: right;\n",
              "    }\n",
              "</style>\n",
              "<table border=\"1\" class=\"dataframe\">\n",
              "  <thead>\n",
              "    <tr style=\"text-align: right;\">\n",
              "      <th></th>\n",
              "      <th>Date</th>\n",
              "      <th>Close</th>\n",
              "    </tr>\n",
              "  </thead>\n",
              "  <tbody>\n",
              "    <tr>\n",
              "      <th>0</th>\n",
              "      <td>1950-01-03</td>\n",
              "      <td>16.660000</td>\n",
              "    </tr>\n",
              "    <tr>\n",
              "      <th>1</th>\n",
              "      <td>1950-01-04</td>\n",
              "      <td>16.850000</td>\n",
              "    </tr>\n",
              "    <tr>\n",
              "      <th>2</th>\n",
              "      <td>1950-01-05</td>\n",
              "      <td>16.930000</td>\n",
              "    </tr>\n",
              "    <tr>\n",
              "      <th>3</th>\n",
              "      <td>1950-01-06</td>\n",
              "      <td>16.980000</td>\n",
              "    </tr>\n",
              "    <tr>\n",
              "      <th>4</th>\n",
              "      <td>1950-01-09</td>\n",
              "      <td>17.080000</td>\n",
              "    </tr>\n",
              "    <tr>\n",
              "      <th>5</th>\n",
              "      <td>1950-01-10</td>\n",
              "      <td>17.030001</td>\n",
              "    </tr>\n",
              "    <tr>\n",
              "      <th>6</th>\n",
              "      <td>1950-01-11</td>\n",
              "      <td>17.090000</td>\n",
              "    </tr>\n",
              "    <tr>\n",
              "      <th>7</th>\n",
              "      <td>1950-01-12</td>\n",
              "      <td>16.760000</td>\n",
              "    </tr>\n",
              "    <tr>\n",
              "      <th>8</th>\n",
              "      <td>1950-01-13</td>\n",
              "      <td>16.670000</td>\n",
              "    </tr>\n",
              "    <tr>\n",
              "      <th>9</th>\n",
              "      <td>1950-01-16</td>\n",
              "      <td>16.719999</td>\n",
              "    </tr>\n",
              "    <tr>\n",
              "      <th>10</th>\n",
              "      <td>1950-01-17</td>\n",
              "      <td>16.860001</td>\n",
              "    </tr>\n",
              "    <tr>\n",
              "      <th>11</th>\n",
              "      <td>1950-01-18</td>\n",
              "      <td>16.850000</td>\n",
              "    </tr>\n",
              "  </tbody>\n",
              "</table>\n",
              "</div>"
            ],
            "text/plain": [
              "          Date      Close\n",
              "0   1950-01-03  16.660000\n",
              "1   1950-01-04  16.850000\n",
              "2   1950-01-05  16.930000\n",
              "3   1950-01-06  16.980000\n",
              "4   1950-01-09  17.080000\n",
              "5   1950-01-10  17.030001\n",
              "6   1950-01-11  17.090000\n",
              "7   1950-01-12  16.760000\n",
              "8   1950-01-13  16.670000\n",
              "9   1950-01-16  16.719999\n",
              "10  1950-01-17  16.860001\n",
              "11  1950-01-18  16.850000"
            ]
          },
          "metadata": {
            "tags": []
          },
          "execution_count": 8
        }
      ]
    },
    {
      "cell_type": "code",
      "metadata": {
        "id": "cv2VS0Rs7jqR",
        "colab_type": "code",
        "outputId": "1beada7a-0e83-41f5-eb71-e58440805dd0",
        "colab": {
          "base_uri": "https://localhost:8080/",
          "height": 629
        }
      },
      "source": [
        "sp500.plot(x=\"Date\", y=\"Close\", figsize=(20, 10));"
      ],
      "execution_count": 0,
      "outputs": [
        {
          "output_type": "display_data",
          "data": {
            "image/png": "[encoded data removed]",
            "text/plain": [
              "<Figure size 1440x720 with 1 Axes>"
            ]
          },
          "metadata": {
            "tags": []
          }
        }
      ]
    },
    {
      "cell_type": "code",
      "metadata": {
        "id": "SsF8BfRiP2jt",
        "colab_type": "code",
        "colab": {
          "base_uri": "https://localhost:8080/",
          "height": 119
        },
        "outputId": "cb1a11e7-d9fd-404d-f7e0-347153e3db0b"
      },
      "source": [
        "df_sp500 = sp500.set_index('Date')\n",
        "df_sp500.info()"
      ],
      "execution_count": 10,
      "outputs": [
        {
          "output_type": "stream",
          "text": [
            "<class 'pandas.core.frame.DataFrame'>\n",
            "Index: 17465 entries, 1950-01-03 to 2019-05-31\n",
            "Data columns (total 1 columns):\n",
            "Close    17465 non-null float64\n",
            "dtypes: float64(1)\n",
            "memory usage: 272.9+ KB\n"
          ],
          "name": "stdout"
        }
      ]
    },
    {
      "cell_type": "code",
      "metadata": {
        "id": "_5C9CHPsQMbj",
        "colab_type": "code",
        "outputId": "a78dd964-09af-44e0-d67e-91291142cb6d",
        "colab": {
          "base_uri": "https://localhost:8080/",
          "height": 359
        }
      },
      "source": [
        "df_sp500.head(9)"
      ],
      "execution_count": 12,
      "outputs": [
        {
          "output_type": "execute_result",
          "data": {
            "text/html": [
              "<div>\n",
              "<style scoped>\n",
              "    .dataframe tbody tr th:only-of-type {\n",
              "        vertical-align: middle;\n",
              "    }\n",
              "\n",
              "    .dataframe tbody tr th {\n",
              "        vertical-align: top;\n",
              "    }\n",
              "\n",
              "    .dataframe thead th {\n",
              "        text-align: right;\n",
              "    }\n",
              "</style>\n",
              "<table border=\"1\" class=\"dataframe\">\n",
              "  <thead>\n",
              "    <tr style=\"text-align: right;\">\n",
              "      <th></th>\n",
              "      <th>Close</th>\n",
              "    </tr>\n",
              "    <tr>\n",
              "      <th>Date</th>\n",
              "      <th></th>\n",
              "    </tr>\n",
              "  </thead>\n",
              "  <tbody>\n",
              "    <tr>\n",
              "      <th>1950-01-03</th>\n",
              "      <td>16.660000</td>\n",
              "    </tr>\n",
              "    <tr>\n",
              "      <th>1950-01-04</th>\n",
              "      <td>16.850000</td>\n",
              "    </tr>\n",
              "    <tr>\n",
              "      <th>1950-01-05</th>\n",
              "      <td>16.930000</td>\n",
              "    </tr>\n",
              "    <tr>\n",
              "      <th>1950-01-06</th>\n",
              "      <td>16.980000</td>\n",
              "    </tr>\n",
              "    <tr>\n",
              "      <th>1950-01-09</th>\n",
              "      <td>17.080000</td>\n",
              "    </tr>\n",
              "    <tr>\n",
              "      <th>1950-01-10</th>\n",
              "      <td>17.030001</td>\n",
              "    </tr>\n",
              "    <tr>\n",
              "      <th>1950-01-11</th>\n",
              "      <td>17.090000</td>\n",
              "    </tr>\n",
              "    <tr>\n",
              "      <th>1950-01-12</th>\n",
              "      <td>16.760000</td>\n",
              "    </tr>\n",
              "    <tr>\n",
              "      <th>1950-01-13</th>\n",
              "      <td>16.670000</td>\n",
              "    </tr>\n",
              "  </tbody>\n",
              "</table>\n",
              "</div>"
            ],
            "text/plain": [
              "                Close\n",
              "Date                 \n",
              "1950-01-03  16.660000\n",
              "1950-01-04  16.850000\n",
              "1950-01-05  16.930000\n",
              "1950-01-06  16.980000\n",
              "1950-01-09  17.080000\n",
              "1950-01-10  17.030001\n",
              "1950-01-11  17.090000\n",
              "1950-01-12  16.760000\n",
              "1950-01-13  16.670000"
            ]
          },
          "metadata": {
            "tags": []
          },
          "execution_count": 12
        }
      ]
    },
    {
      "cell_type": "code",
      "metadata": {
        "id": "DOTMOeUA65Iv",
        "colab_type": "code",
        "outputId": "fd37bf90-9c53-468f-bdf7-ec1ab1ba24bb",
        "colab": {
          "base_uri": "https://localhost:8080/",
          "height": 34
        }
      },
      "source": [
        "quakes = pd.read_csv(\"https://raw.githubusercontent.com/labs13-quake-viewer/ds-data/master/Earthquakes%205.5%201900-present.csv\")\n",
        "quakes.shape"
      ],
      "execution_count": 13,
      "outputs": [
        {
          "output_type": "execute_result",
          "data": {
            "text/plain": [
              "(30251, 22)"
            ]
          },
          "metadata": {
            "tags": []
          },
          "execution_count": 13
        }
      ]
    },
    {
      "cell_type": "code",
      "metadata": {
        "id": "YI_2tlME9QCs",
        "colab_type": "code",
        "outputId": "702d3acc-4f1a-4163-9884-e7bc8c6dd24a",
        "colab": {
          "base_uri": "https://localhost:8080/",
          "height": 377
        }
      },
      "source": [
        "quakes.describe()"
      ],
      "execution_count": 14,
      "outputs": [
        {
          "output_type": "execute_result",
          "data": {
            "text/html": [
              "<div>\n",
              "<style scoped>\n",
              "    .dataframe tbody tr th:only-of-type {\n",
              "        vertical-align: middle;\n",
              "    }\n",
              "\n",
              "    .dataframe tbody tr th {\n",
              "        vertical-align: top;\n",
              "    }\n",
              "\n",
              "    .dataframe thead th {\n",
              "        text-align: right;\n",
              "    }\n",
              "</style>\n",
              "<table border=\"1\" class=\"dataframe\">\n",
              "  <thead>\n",
              "    <tr style=\"text-align: right;\">\n",
              "      <th></th>\n",
              "      <th>latitude</th>\n",
              "      <th>longitude</th>\n",
              "      <th>depth</th>\n",
              "      <th>mag</th>\n",
              "      <th>nst</th>\n",
              "      <th>gap</th>\n",
              "      <th>dmin</th>\n",
              "      <th>rms</th>\n",
              "      <th>horizontalError</th>\n",
              "      <th>depthError</th>\n",
              "      <th>magError</th>\n",
              "      <th>magNst</th>\n",
              "    </tr>\n",
              "  </thead>\n",
              "  <tbody>\n",
              "    <tr>\n",
              "      <th>count</th>\n",
              "      <td>30251.000000</td>\n",
              "      <td>30251.000000</td>\n",
              "      <td>29997.000000</td>\n",
              "      <td>30251.000000</td>\n",
              "      <td>7109.000000</td>\n",
              "      <td>8354.000000</td>\n",
              "      <td>2672.000000</td>\n",
              "      <td>18486.000000</td>\n",
              "      <td>2234.000000</td>\n",
              "      <td>5610.000000</td>\n",
              "      <td>1369.000000</td>\n",
              "      <td>3611.000000</td>\n",
              "    </tr>\n",
              "    <tr>\n",
              "      <th>mean</th>\n",
              "      <td>4.282117</td>\n",
              "      <td>37.327246</td>\n",
              "      <td>64.094516</td>\n",
              "      <td>5.951607</td>\n",
              "      <td>273.044732</td>\n",
              "      <td>44.853689</td>\n",
              "      <td>4.189849</td>\n",
              "      <td>1.018730</td>\n",
              "      <td>7.666862</td>\n",
              "      <td>5.078937</td>\n",
              "      <td>0.061660</td>\n",
              "      <td>47.232069</td>\n",
              "    </tr>\n",
              "    <tr>\n",
              "      <th>std</th>\n",
              "      <td>30.930651</td>\n",
              "      <td>125.660867</td>\n",
              "      <td>115.575820</td>\n",
              "      <td>0.471951</td>\n",
              "      <td>162.453989</td>\n",
              "      <td>35.404920</td>\n",
              "      <td>5.449785</td>\n",
              "      <td>0.360655</td>\n",
              "      <td>8.588187</td>\n",
              "      <td>20.749316</td>\n",
              "      <td>0.031673</td>\n",
              "      <td>62.862633</td>\n",
              "    </tr>\n",
              "    <tr>\n",
              "      <th>min</th>\n",
              "      <td>-77.080000</td>\n",
              "      <td>-179.997000</td>\n",
              "      <td>-4.000000</td>\n",
              "      <td>5.500000</td>\n",
              "      <td>0.000000</td>\n",
              "      <td>0.000000</td>\n",
              "      <td>0.004505</td>\n",
              "      <td>0.000000</td>\n",
              "      <td>0.085000</td>\n",
              "      <td>0.000000</td>\n",
              "      <td>0.000000</td>\n",
              "      <td>0.000000</td>\n",
              "    </tr>\n",
              "    <tr>\n",
              "      <th>25%</th>\n",
              "      <td>-17.616000</td>\n",
              "      <td>-79.147000</td>\n",
              "      <td>15.000000</td>\n",
              "      <td>5.600000</td>\n",
              "      <td>144.000000</td>\n",
              "      <td>24.000000</td>\n",
              "      <td>1.142500</td>\n",
              "      <td>0.900000</td>\n",
              "      <td>5.600000</td>\n",
              "      <td>1.800000</td>\n",
              "      <td>0.047000</td>\n",
              "      <td>14.000000</td>\n",
              "    </tr>\n",
              "    <tr>\n",
              "      <th>50%</th>\n",
              "      <td>-0.856000</td>\n",
              "      <td>100.063000</td>\n",
              "      <td>33.000000</td>\n",
              "      <td>5.800000</td>\n",
              "      <td>252.000000</td>\n",
              "      <td>35.900000</td>\n",
              "      <td>2.489500</td>\n",
              "      <td>1.000000</td>\n",
              "      <td>7.000000</td>\n",
              "      <td>3.100000</td>\n",
              "      <td>0.057000</td>\n",
              "      <td>30.000000</td>\n",
              "    </tr>\n",
              "    <tr>\n",
              "      <th>75%</th>\n",
              "      <td>32.038000</td>\n",
              "      <td>144.442000</td>\n",
              "      <td>47.000000</td>\n",
              "      <td>6.200000</td>\n",
              "      <td>381.000000</td>\n",
              "      <td>54.200000</td>\n",
              "      <td>4.895000</td>\n",
              "      <td>1.120000</td>\n",
              "      <td>8.300000</td>\n",
              "      <td>5.400000</td>\n",
              "      <td>0.068000</td>\n",
              "      <td>57.500000</td>\n",
              "    </tr>\n",
              "    <tr>\n",
              "      <th>max</th>\n",
              "      <td>86.922900</td>\n",
              "      <td>180.000000</td>\n",
              "      <td>700.000000</td>\n",
              "      <td>9.500000</td>\n",
              "      <td>934.000000</td>\n",
              "      <td>360.000000</td>\n",
              "      <td>37.874000</td>\n",
              "      <td>42.410000</td>\n",
              "      <td>99.000000</td>\n",
              "      <td>1312.300000</td>\n",
              "      <td>0.410000</td>\n",
              "      <td>941.000000</td>\n",
              "    </tr>\n",
              "  </tbody>\n",
              "</table>\n",
              "</div>"
            ],
            "text/plain": [
              "           latitude     longitude  ...     magError       magNst\n",
              "count  30251.000000  30251.000000  ...  1369.000000  3611.000000\n",
              "mean       4.282117     37.327246  ...     0.061660    47.232069\n",
              "std       30.930651    125.660867  ...     0.031673    62.862633\n",
              "min      -77.080000   -179.997000  ...     0.000000     0.000000\n",
              "25%      -17.616000    -79.147000  ...     0.047000    14.000000\n",
              "50%       -0.856000    100.063000  ...     0.057000    30.000000\n",
              "75%       32.038000    144.442000  ...     0.068000    57.500000\n",
              "max       86.922900    180.000000  ...     0.410000   941.000000\n",
              "\n",
              "[8 rows x 12 columns]"
            ]
          },
          "metadata": {
            "tags": []
          },
          "execution_count": 14
        }
      ]
    },
    {
      "cell_type": "code",
      "metadata": {
        "id": "Or0X8c1N9TyM",
        "colab_type": "code",
        "outputId": "6e2bf750-62a9-44d2-e5e8-a413ba49c508",
        "colab": {
          "base_uri": "https://localhost:8080/",
          "height": 476
        }
      },
      "source": [
        "quakes.info()"
      ],
      "execution_count": 16,
      "outputs": [
        {
          "output_type": "stream",
          "text": [
            "<class 'pandas.core.frame.DataFrame'>\n",
            "RangeIndex: 30251 entries, 0 to 30250\n",
            "Data columns (total 22 columns):\n",
            "time               30251 non-null object\n",
            "latitude           30251 non-null float64\n",
            "longitude          30251 non-null float64\n",
            "depth              29997 non-null float64\n",
            "mag                30251 non-null float64\n",
            "magType            30251 non-null object\n",
            "nst                7109 non-null float64\n",
            "gap                8354 non-null float64\n",
            "dmin               2672 non-null float64\n",
            "rms                18486 non-null float64\n",
            "net                30251 non-null object\n",
            "id                 30251 non-null object\n",
            "updated            30251 non-null object\n",
            "place              30248 non-null object\n",
            "type               30251 non-null object\n",
            "horizontalError    2234 non-null float64\n",
            "depthError         5610 non-null float64\n",
            "magError           1369 non-null float64\n",
            "magNst             3611 non-null float64\n",
            "status             30251 non-null object\n",
            "locationSource     30251 non-null object\n",
            "magSource          30251 non-null object\n",
            "dtypes: float64(12), object(10)\n",
            "memory usage: 5.1+ MB\n"
          ],
          "name": "stdout"
        }
      ]
    },
    {
      "cell_type": "code",
      "metadata": {
        "id": "KaHECzkMvEaQ",
        "colab_type": "code",
        "outputId": "af696cf2-343a-453a-e9d5-bda36dfff629",
        "colab": {
          "base_uri": "https://localhost:8080/",
          "height": 875
        }
      },
      "source": [
        "quakes.sample(12)"
      ],
      "execution_count": 17,
      "outputs": [
        {
          "output_type": "execute_result",
          "data": {
            "text/html": [
              "<div>\n",
              "<style scoped>\n",
              "    .dataframe tbody tr th:only-of-type {\n",
              "        vertical-align: middle;\n",
              "    }\n",
              "\n",
              "    .dataframe tbody tr th {\n",
              "        vertical-align: top;\n",
              "    }\n",
              "\n",
              "    .dataframe thead th {\n",
              "        text-align: right;\n",
              "    }\n",
              "</style>\n",
              "<table border=\"1\" class=\"dataframe\">\n",
              "  <thead>\n",
              "    <tr style=\"text-align: right;\">\n",
              "      <th></th>\n",
              "      <th>time</th>\n",
              "      <th>latitude</th>\n",
              "      <th>longitude</th>\n",
              "      <th>depth</th>\n",
              "      <th>mag</th>\n",
              "      <th>magType</th>\n",
              "      <th>nst</th>\n",
              "      <th>gap</th>\n",
              "      <th>dmin</th>\n",
              "      <th>rms</th>\n",
              "      <th>net</th>\n",
              "      <th>id</th>\n",
              "      <th>updated</th>\n",
              "      <th>place</th>\n",
              "      <th>type</th>\n",
              "      <th>horizontalError</th>\n",
              "      <th>depthError</th>\n",
              "      <th>magError</th>\n",
              "      <th>magNst</th>\n",
              "      <th>status</th>\n",
              "      <th>locationSource</th>\n",
              "      <th>magSource</th>\n",
              "    </tr>\n",
              "  </thead>\n",
              "  <tbody>\n",
              "    <tr>\n",
              "      <th>20673</th>\n",
              "      <td>1976-01-14T16:47:33.500Z</td>\n",
              "      <td>-28.4270</td>\n",
              "      <td>-177.6570</td>\n",
              "      <td>33.00</td>\n",
              "      <td>8.0</td>\n",
              "      <td>ms</td>\n",
              "      <td>NaN</td>\n",
              "      <td>NaN</td>\n",
              "      <td>NaN</td>\n",
              "      <td>NaN</td>\n",
              "      <td>us</td>\n",
              "      <td>usp0000ee7</td>\n",
              "      <td>2016-11-10T02:39:03.544Z</td>\n",
              "      <td>Kermadec Islands region</td>\n",
              "      <td>earthquake</td>\n",
              "      <td>NaN</td>\n",
              "      <td>NaN</td>\n",
              "      <td>NaN</td>\n",
              "      <td>NaN</td>\n",
              "      <td>reviewed</td>\n",
              "      <td>us</td>\n",
              "      <td>us</td>\n",
              "    </tr>\n",
              "    <tr>\n",
              "      <th>29552</th>\n",
              "      <td>1929-06-13T00:12:20.000Z</td>\n",
              "      <td>45.6450</td>\n",
              "      <td>151.4310</td>\n",
              "      <td>35.00</td>\n",
              "      <td>6.9</td>\n",
              "      <td>mw</td>\n",
              "      <td>NaN</td>\n",
              "      <td>NaN</td>\n",
              "      <td>NaN</td>\n",
              "      <td>NaN</td>\n",
              "      <td>iscgem</td>\n",
              "      <td>iscgem908137</td>\n",
              "      <td>2015-05-13T18:52:42.000Z</td>\n",
              "      <td>Kuril Islands</td>\n",
              "      <td>earthquake</td>\n",
              "      <td>NaN</td>\n",
              "      <td>NaN</td>\n",
              "      <td>NaN</td>\n",
              "      <td>NaN</td>\n",
              "      <td>automatic</td>\n",
              "      <td>iscgem</td>\n",
              "      <td>iscgem</td>\n",
              "    </tr>\n",
              "    <tr>\n",
              "      <th>22288</th>\n",
              "      <td>1971-11-21T06:20:01.000Z</td>\n",
              "      <td>-11.9260</td>\n",
              "      <td>166.5680</td>\n",
              "      <td>116.60</td>\n",
              "      <td>6.1</td>\n",
              "      <td>mw</td>\n",
              "      <td>NaN</td>\n",
              "      <td>NaN</td>\n",
              "      <td>NaN</td>\n",
              "      <td>NaN</td>\n",
              "      <td>iscgem</td>\n",
              "      <td>iscgem778698</td>\n",
              "      <td>2015-05-13T18:53:06.000Z</td>\n",
              "      <td>Santa Cruz Islands</td>\n",
              "      <td>earthquake</td>\n",
              "      <td>NaN</td>\n",
              "      <td>NaN</td>\n",
              "      <td>NaN</td>\n",
              "      <td>NaN</td>\n",
              "      <td>automatic</td>\n",
              "      <td>iscgem</td>\n",
              "      <td>iscgem</td>\n",
              "    </tr>\n",
              "    <tr>\n",
              "      <th>9053</th>\n",
              "      <td>2001-06-19T09:32:24.710Z</td>\n",
              "      <td>-22.7390</td>\n",
              "      <td>-67.8770</td>\n",
              "      <td>146.60</td>\n",
              "      <td>6.0</td>\n",
              "      <td>mwb</td>\n",
              "      <td>243.0</td>\n",
              "      <td>NaN</td>\n",
              "      <td>NaN</td>\n",
              "      <td>0.94</td>\n",
              "      <td>us</td>\n",
              "      <td>usp000agxc</td>\n",
              "      <td>2016-11-09T22:47:28.575Z</td>\n",
              "      <td>Potosi, Bolivia</td>\n",
              "      <td>earthquake</td>\n",
              "      <td>NaN</td>\n",
              "      <td>NaN</td>\n",
              "      <td>NaN</td>\n",
              "      <td>NaN</td>\n",
              "      <td>reviewed</td>\n",
              "      <td>us</td>\n",
              "      <td>us</td>\n",
              "    </tr>\n",
              "    <tr>\n",
              "      <th>8726</th>\n",
              "      <td>2002-03-17T20:50:32.460Z</td>\n",
              "      <td>-33.2630</td>\n",
              "      <td>-179.7250</td>\n",
              "      <td>33.00</td>\n",
              "      <td>5.6</td>\n",
              "      <td>mwc</td>\n",
              "      <td>353.0</td>\n",
              "      <td>NaN</td>\n",
              "      <td>NaN</td>\n",
              "      <td>0.93</td>\n",
              "      <td>us</td>\n",
              "      <td>usp000b0hh</td>\n",
              "      <td>2016-11-09T22:05:59.393Z</td>\n",
              "      <td>south of the Kermadec Islands</td>\n",
              "      <td>earthquake</td>\n",
              "      <td>NaN</td>\n",
              "      <td>NaN</td>\n",
              "      <td>NaN</td>\n",
              "      <td>NaN</td>\n",
              "      <td>reviewed</td>\n",
              "      <td>us</td>\n",
              "      <td>hrv</td>\n",
              "    </tr>\n",
              "    <tr>\n",
              "      <th>2261</th>\n",
              "      <td>2014-05-23T21:20:06.590Z</td>\n",
              "      <td>18.9494</td>\n",
              "      <td>145.0446</td>\n",
              "      <td>558.07</td>\n",
              "      <td>5.7</td>\n",
              "      <td>mww</td>\n",
              "      <td>NaN</td>\n",
              "      <td>15.0</td>\n",
              "      <td>5.332</td>\n",
              "      <td>0.78</td>\n",
              "      <td>us</td>\n",
              "      <td>usb000r209</td>\n",
              "      <td>2014-08-23T08:36:45.000Z</td>\n",
              "      <td>68km WNW of Agrihan, Northern Mariana Islands</td>\n",
              "      <td>earthquake</td>\n",
              "      <td>NaN</td>\n",
              "      <td>5.5</td>\n",
              "      <td>NaN</td>\n",
              "      <td>NaN</td>\n",
              "      <td>reviewed</td>\n",
              "      <td>us</td>\n",
              "      <td>us</td>\n",
              "    </tr>\n",
              "    <tr>\n",
              "      <th>19915</th>\n",
              "      <td>1977-10-16T21:09:17.700Z</td>\n",
              "      <td>-9.7330</td>\n",
              "      <td>117.1180</td>\n",
              "      <td>33.00</td>\n",
              "      <td>5.8</td>\n",
              "      <td>ms</td>\n",
              "      <td>NaN</td>\n",
              "      <td>NaN</td>\n",
              "      <td>NaN</td>\n",
              "      <td>NaN</td>\n",
              "      <td>us</td>\n",
              "      <td>usp0000r2m</td>\n",
              "      <td>2016-11-09T23:43:47.276Z</td>\n",
              "      <td>Sumbawa region, Indonesia</td>\n",
              "      <td>earthquake</td>\n",
              "      <td>NaN</td>\n",
              "      <td>NaN</td>\n",
              "      <td>NaN</td>\n",
              "      <td>NaN</td>\n",
              "      <td>reviewed</td>\n",
              "      <td>us</td>\n",
              "      <td>us</td>\n",
              "    </tr>\n",
              "    <tr>\n",
              "      <th>6547</th>\n",
              "      <td>2006-07-12T14:44:45.960Z</td>\n",
              "      <td>-8.5480</td>\n",
              "      <td>67.8140</td>\n",
              "      <td>10.00</td>\n",
              "      <td>5.7</td>\n",
              "      <td>mwc</td>\n",
              "      <td>210.0</td>\n",
              "      <td>52.3</td>\n",
              "      <td>NaN</td>\n",
              "      <td>0.70</td>\n",
              "      <td>us</td>\n",
              "      <td>usp000enfc</td>\n",
              "      <td>2016-11-10T01:25:29.927Z</td>\n",
              "      <td>Mid-Indian Ridge</td>\n",
              "      <td>earthquake</td>\n",
              "      <td>NaN</td>\n",
              "      <td>NaN</td>\n",
              "      <td>NaN</td>\n",
              "      <td>NaN</td>\n",
              "      <td>reviewed</td>\n",
              "      <td>us</td>\n",
              "      <td>hrv</td>\n",
              "    </tr>\n",
              "    <tr>\n",
              "      <th>15155</th>\n",
              "      <td>1989-01-12T19:47:41.000Z</td>\n",
              "      <td>46.7890</td>\n",
              "      <td>153.8960</td>\n",
              "      <td>33.00</td>\n",
              "      <td>6.1</td>\n",
              "      <td>mw</td>\n",
              "      <td>NaN</td>\n",
              "      <td>NaN</td>\n",
              "      <td>NaN</td>\n",
              "      <td>1.00</td>\n",
              "      <td>us</td>\n",
              "      <td>usp0003qtq</td>\n",
              "      <td>2016-11-09T21:39:16.580Z</td>\n",
              "      <td>Kuril Islands</td>\n",
              "      <td>earthquake</td>\n",
              "      <td>NaN</td>\n",
              "      <td>NaN</td>\n",
              "      <td>NaN</td>\n",
              "      <td>NaN</td>\n",
              "      <td>reviewed</td>\n",
              "      <td>us</td>\n",
              "      <td>hrv</td>\n",
              "    </tr>\n",
              "    <tr>\n",
              "      <th>18673</th>\n",
              "      <td>1981-01-27T12:18:33.100Z</td>\n",
              "      <td>-6.6490</td>\n",
              "      <td>130.2410</td>\n",
              "      <td>116.00</td>\n",
              "      <td>5.5</td>\n",
              "      <td>mb</td>\n",
              "      <td>NaN</td>\n",
              "      <td>NaN</td>\n",
              "      <td>NaN</td>\n",
              "      <td>NaN</td>\n",
              "      <td>us</td>\n",
              "      <td>usp0001bx3</td>\n",
              "      <td>2016-11-09T21:45:32.610Z</td>\n",
              "      <td>Banda Sea</td>\n",
              "      <td>earthquake</td>\n",
              "      <td>NaN</td>\n",
              "      <td>NaN</td>\n",
              "      <td>NaN</td>\n",
              "      <td>NaN</td>\n",
              "      <td>reviewed</td>\n",
              "      <td>us</td>\n",
              "      <td>us</td>\n",
              "    </tr>\n",
              "    <tr>\n",
              "      <th>10489</th>\n",
              "      <td>1998-05-23T17:44:47.770Z</td>\n",
              "      <td>8.1380</td>\n",
              "      <td>123.7260</td>\n",
              "      <td>657.80</td>\n",
              "      <td>6.0</td>\n",
              "      <td>mwc</td>\n",
              "      <td>NaN</td>\n",
              "      <td>NaN</td>\n",
              "      <td>NaN</td>\n",
              "      <td>0.82</td>\n",
              "      <td>us</td>\n",
              "      <td>usp0008nmf</td>\n",
              "      <td>2016-11-10T00:35:50.765Z</td>\n",
              "      <td>Mindanao, Philippines</td>\n",
              "      <td>earthquake</td>\n",
              "      <td>NaN</td>\n",
              "      <td>NaN</td>\n",
              "      <td>NaN</td>\n",
              "      <td>NaN</td>\n",
              "      <td>reviewed</td>\n",
              "      <td>us</td>\n",
              "      <td>hrv</td>\n",
              "    </tr>\n",
              "    <tr>\n",
              "      <th>30011</th>\n",
              "      <td>1919-09-01T19:12:33.000Z</td>\n",
              "      <td>-62.8870</td>\n",
              "      <td>-116.6610</td>\n",
              "      <td>10.00</td>\n",
              "      <td>6.3</td>\n",
              "      <td>mw</td>\n",
              "      <td>NaN</td>\n",
              "      <td>NaN</td>\n",
              "      <td>NaN</td>\n",
              "      <td>NaN</td>\n",
              "      <td>iscgemsup</td>\n",
              "      <td>iscgemsup912915</td>\n",
              "      <td>2015-07-13T17:02:22.000Z</td>\n",
              "      <td>southern Pacific Ocean</td>\n",
              "      <td>earthquake</td>\n",
              "      <td>NaN</td>\n",
              "      <td>NaN</td>\n",
              "      <td>NaN</td>\n",
              "      <td>NaN</td>\n",
              "      <td>automatic</td>\n",
              "      <td>iscgem</td>\n",
              "      <td>iscgem</td>\n",
              "    </tr>\n",
              "  </tbody>\n",
              "</table>\n",
              "</div>"
            ],
            "text/plain": [
              "                           time  latitude  ...  locationSource  magSource\n",
              "20673  1976-01-14T16:47:33.500Z  -28.4270  ...              us         us\n",
              "29552  1929-06-13T00:12:20.000Z   45.6450  ...          iscgem     iscgem\n",
              "22288  1971-11-21T06:20:01.000Z  -11.9260  ...          iscgem     iscgem\n",
              "9053   2001-06-19T09:32:24.710Z  -22.7390  ...              us         us\n",
              "8726   2002-03-17T20:50:32.460Z  -33.2630  ...              us        hrv\n",
              "2261   2014-05-23T21:20:06.590Z   18.9494  ...              us         us\n",
              "19915  1977-10-16T21:09:17.700Z   -9.7330  ...              us         us\n",
              "6547   2006-07-12T14:44:45.960Z   -8.5480  ...              us        hrv\n",
              "15155  1989-01-12T19:47:41.000Z   46.7890  ...              us        hrv\n",
              "18673  1981-01-27T12:18:33.100Z   -6.6490  ...              us         us\n",
              "10489  1998-05-23T17:44:47.770Z    8.1380  ...              us        hrv\n",
              "30011  1919-09-01T19:12:33.000Z  -62.8870  ...          iscgem     iscgem\n",
              "\n",
              "[12 rows x 22 columns]"
            ]
          },
          "metadata": {
            "tags": []
          },
          "execution_count": 17
        }
      ]
    },
    {
      "cell_type": "code",
      "metadata": {
        "id": "CXHRy743v_Qs",
        "colab_type": "code",
        "outputId": "c5fb0f86-169c-472e-893a-7a9448892538",
        "colab": {
          "base_uri": "https://localhost:8080/",
          "height": 272
        }
      },
      "source": [
        "pd.options.mode.chained_assignment = None  # default='warn'\n",
        "df_quakes = quakes[['time', 'mag', 'latitude', 'longitude', 'depth', 'magType', 'place', 'type', 'locationSource', 'magSource']]\n",
        "df_quakes.time = df_quakes.time.str[:10]\n",
        "df_quakes = df_quakes.sort_values(by=['time'])\n",
        "df_quakes.info()"
      ],
      "execution_count": 18,
      "outputs": [
        {
          "output_type": "stream",
          "text": [
            "<class 'pandas.core.frame.DataFrame'>\n",
            "Int64Index: 30251 entries, 30250 to 0\n",
            "Data columns (total 10 columns):\n",
            "time              30251 non-null object\n",
            "mag               30251 non-null float64\n",
            "latitude          30251 non-null float64\n",
            "longitude         30251 non-null float64\n",
            "depth             29997 non-null float64\n",
            "magType           30251 non-null object\n",
            "place             30248 non-null object\n",
            "type              30251 non-null object\n",
            "locationSource    30251 non-null object\n",
            "magSource         30251 non-null object\n",
            "dtypes: float64(4), object(6)\n",
            "memory usage: 2.5+ MB\n"
          ],
          "name": "stdout"
        }
      ]
    },
    {
      "cell_type": "code",
      "metadata": {
        "id": "w9fsJ5NDpoHz",
        "colab_type": "code",
        "colab": {
          "base_uri": "https://localhost:8080/",
          "height": 272
        },
        "outputId": "883e4ef4-c909-41cf-f71e-a5f9ef49ccd0"
      },
      "source": [
        "df_quakes = df_quakes.dropna()\n",
        "df_quakes.info()"
      ],
      "execution_count": 20,
      "outputs": [
        {
          "output_type": "stream",
          "text": [
            "<class 'pandas.core.frame.DataFrame'>\n",
            "Int64Index: 29995 entries, 30250 to 0\n",
            "Data columns (total 10 columns):\n",
            "time              29995 non-null object\n",
            "mag               29995 non-null float64\n",
            "latitude          29995 non-null float64\n",
            "longitude         29995 non-null float64\n",
            "depth             29995 non-null float64\n",
            "magType           29995 non-null object\n",
            "place             29995 non-null object\n",
            "type              29995 non-null object\n",
            "locationSource    29995 non-null object\n",
            "magSource         29995 non-null object\n",
            "dtypes: float64(4), object(6)\n",
            "memory usage: 2.5+ MB\n"
          ],
          "name": "stdout"
        }
      ]
    },
    {
      "cell_type": "code",
      "metadata": {
        "id": "USAmubdk3nY4",
        "colab_type": "code",
        "outputId": "4f69d6cc-b2ae-442d-a138-bf1a87ff82f1",
        "colab": {
          "base_uri": "https://localhost:8080/",
          "height": 272
        }
      },
      "source": [
        "df = df_quakes[df_quakes['time'] >= \"1950-01-03\"]\n",
        "df_quakes = df[df['mag'] >= 5.5]\n",
        "df_quakes = df_quakes.reset_index(drop=True)\n",
        "df_quakes.info()"
      ],
      "execution_count": 21,
      "outputs": [
        {
          "output_type": "stream",
          "text": [
            "<class 'pandas.core.frame.DataFrame'>\n",
            "RangeIndex: 28399 entries, 0 to 28398\n",
            "Data columns (total 10 columns):\n",
            "time              28399 non-null object\n",
            "mag               28399 non-null float64\n",
            "latitude          28399 non-null float64\n",
            "longitude         28399 non-null float64\n",
            "depth             28399 non-null float64\n",
            "magType           28399 non-null object\n",
            "place             28399 non-null object\n",
            "type              28399 non-null object\n",
            "locationSource    28399 non-null object\n",
            "magSource         28399 non-null object\n",
            "dtypes: float64(4), object(6)\n",
            "memory usage: 2.2+ MB\n"
          ],
          "name": "stdout"
        }
      ]
    },
    {
      "cell_type": "code",
      "metadata": {
        "id": "0NotVFIC4lrU",
        "colab_type": "code",
        "outputId": "8e59735a-4f68-4db2-ecd1-29cdfec6e438",
        "colab": {
          "base_uri": "https://localhost:8080/",
          "height": 625
        }
      },
      "source": [
        "df_quakes.head(12)"
      ],
      "execution_count": 22,
      "outputs": [
        {
          "output_type": "execute_result",
          "data": {
            "text/html": [
              "<div>\n",
              "<style scoped>\n",
              "    .dataframe tbody tr th:only-of-type {\n",
              "        vertical-align: middle;\n",
              "    }\n",
              "\n",
              "    .dataframe tbody tr th {\n",
              "        vertical-align: top;\n",
              "    }\n",
              "\n",
              "    .dataframe thead th {\n",
              "        text-align: right;\n",
              "    }\n",
              "</style>\n",
              "<table border=\"1\" class=\"dataframe\">\n",
              "  <thead>\n",
              "    <tr style=\"text-align: right;\">\n",
              "      <th></th>\n",
              "      <th>time</th>\n",
              "      <th>mag</th>\n",
              "      <th>latitude</th>\n",
              "      <th>longitude</th>\n",
              "      <th>depth</th>\n",
              "      <th>magType</th>\n",
              "      <th>place</th>\n",
              "      <th>type</th>\n",
              "      <th>locationSource</th>\n",
              "      <th>magSource</th>\n",
              "    </tr>\n",
              "  </thead>\n",
              "  <tbody>\n",
              "    <tr>\n",
              "      <th>0</th>\n",
              "      <td>1950-01-03</td>\n",
              "      <td>6.5</td>\n",
              "      <td>17.576</td>\n",
              "      <td>121.428</td>\n",
              "      <td>30.0</td>\n",
              "      <td>mw</td>\n",
              "      <td>Luzon, Philippines</td>\n",
              "      <td>earthquake</td>\n",
              "      <td>iscgem</td>\n",
              "      <td>iscgem</td>\n",
              "    </tr>\n",
              "    <tr>\n",
              "      <th>1</th>\n",
              "      <td>1950-01-03</td>\n",
              "      <td>6.3</td>\n",
              "      <td>-45.798</td>\n",
              "      <td>-77.077</td>\n",
              "      <td>15.0</td>\n",
              "      <td>mw</td>\n",
              "      <td>off the coast of Aisen, Chile</td>\n",
              "      <td>earthquake</td>\n",
              "      <td>iscgem</td>\n",
              "      <td>iscgem</td>\n",
              "    </tr>\n",
              "    <tr>\n",
              "      <th>2</th>\n",
              "      <td>1950-01-10</td>\n",
              "      <td>6.1</td>\n",
              "      <td>10.031</td>\n",
              "      <td>-103.964</td>\n",
              "      <td>15.0</td>\n",
              "      <td>mw</td>\n",
              "      <td>northern East Pacific Rise</td>\n",
              "      <td>earthquake</td>\n",
              "      <td>iscgem</td>\n",
              "      <td>iscgem</td>\n",
              "    </tr>\n",
              "    <tr>\n",
              "      <th>3</th>\n",
              "      <td>1950-01-19</td>\n",
              "      <td>5.7</td>\n",
              "      <td>27.255</td>\n",
              "      <td>53.029</td>\n",
              "      <td>15.0</td>\n",
              "      <td>mw</td>\n",
              "      <td>southern Iran</td>\n",
              "      <td>earthquake</td>\n",
              "      <td>iscgem</td>\n",
              "      <td>iscgem</td>\n",
              "    </tr>\n",
              "    <tr>\n",
              "      <th>4</th>\n",
              "      <td>1950-01-22</td>\n",
              "      <td>5.7</td>\n",
              "      <td>27.096</td>\n",
              "      <td>52.946</td>\n",
              "      <td>15.0</td>\n",
              "      <td>mw</td>\n",
              "      <td>southern Iran</td>\n",
              "      <td>earthquake</td>\n",
              "      <td>iscgem</td>\n",
              "      <td>iscgem</td>\n",
              "    </tr>\n",
              "    <tr>\n",
              "      <th>5</th>\n",
              "      <td>1950-01-30</td>\n",
              "      <td>6.8</td>\n",
              "      <td>-53.472</td>\n",
              "      <td>-71.073</td>\n",
              "      <td>15.0</td>\n",
              "      <td>mw</td>\n",
              "      <td>Magallanes y Antartica Chilena, Chile</td>\n",
              "      <td>earthquake</td>\n",
              "      <td>iscgem</td>\n",
              "      <td>iscgem</td>\n",
              "    </tr>\n",
              "    <tr>\n",
              "      <th>6</th>\n",
              "      <td>1950-02-02</td>\n",
              "      <td>6.9</td>\n",
              "      <td>21.951</td>\n",
              "      <td>99.970</td>\n",
              "      <td>35.0</td>\n",
              "      <td>mw</td>\n",
              "      <td>Myanmar</td>\n",
              "      <td>earthquake</td>\n",
              "      <td>iscgem</td>\n",
              "      <td>iscgem</td>\n",
              "    </tr>\n",
              "    <tr>\n",
              "      <th>7</th>\n",
              "      <td>1950-02-03</td>\n",
              "      <td>6.7</td>\n",
              "      <td>21.814</td>\n",
              "      <td>99.983</td>\n",
              "      <td>35.0</td>\n",
              "      <td>mw</td>\n",
              "      <td>Myanmar</td>\n",
              "      <td>earthquake</td>\n",
              "      <td>iscgem</td>\n",
              "      <td>iscgem</td>\n",
              "    </tr>\n",
              "    <tr>\n",
              "      <th>8</th>\n",
              "      <td>1950-02-03</td>\n",
              "      <td>5.8</td>\n",
              "      <td>22.210</td>\n",
              "      <td>100.174</td>\n",
              "      <td>15.0</td>\n",
              "      <td>mw</td>\n",
              "      <td>Yunnan, China</td>\n",
              "      <td>earthquake</td>\n",
              "      <td>iscgem</td>\n",
              "      <td>iscgem</td>\n",
              "    </tr>\n",
              "    <tr>\n",
              "      <th>9</th>\n",
              "      <td>1950-02-05</td>\n",
              "      <td>6.4</td>\n",
              "      <td>-49.015</td>\n",
              "      <td>164.359</td>\n",
              "      <td>15.0</td>\n",
              "      <td>mw</td>\n",
              "      <td>Auckland Islands, New Zealand region</td>\n",
              "      <td>earthquake</td>\n",
              "      <td>iscgem</td>\n",
              "      <td>iscgem</td>\n",
              "    </tr>\n",
              "    <tr>\n",
              "      <th>10</th>\n",
              "      <td>1950-02-07</td>\n",
              "      <td>5.9</td>\n",
              "      <td>45.949</td>\n",
              "      <td>151.590</td>\n",
              "      <td>35.0</td>\n",
              "      <td>mw</td>\n",
              "      <td>Kuril Islands</td>\n",
              "      <td>earthquake</td>\n",
              "      <td>iscgem</td>\n",
              "      <td>iscgem</td>\n",
              "    </tr>\n",
              "    <tr>\n",
              "      <th>11</th>\n",
              "      <td>1950-02-08</td>\n",
              "      <td>5.7</td>\n",
              "      <td>46.676</td>\n",
              "      <td>-27.469</td>\n",
              "      <td>15.0</td>\n",
              "      <td>mw</td>\n",
              "      <td>northern Mid-Atlantic Ridge</td>\n",
              "      <td>earthquake</td>\n",
              "      <td>iscgem</td>\n",
              "      <td>iscgem</td>\n",
              "    </tr>\n",
              "  </tbody>\n",
              "</table>\n",
              "</div>"
            ],
            "text/plain": [
              "          time  mag  latitude  ...        type  locationSource magSource\n",
              "0   1950-01-03  6.5    17.576  ...  earthquake          iscgem    iscgem\n",
              "1   1950-01-03  6.3   -45.798  ...  earthquake          iscgem    iscgem\n",
              "2   1950-01-10  6.1    10.031  ...  earthquake          iscgem    iscgem\n",
              "3   1950-01-19  5.7    27.255  ...  earthquake          iscgem    iscgem\n",
              "4   1950-01-22  5.7    27.096  ...  earthquake          iscgem    iscgem\n",
              "5   1950-01-30  6.8   -53.472  ...  earthquake          iscgem    iscgem\n",
              "6   1950-02-02  6.9    21.951  ...  earthquake          iscgem    iscgem\n",
              "7   1950-02-03  6.7    21.814  ...  earthquake          iscgem    iscgem\n",
              "8   1950-02-03  5.8    22.210  ...  earthquake          iscgem    iscgem\n",
              "9   1950-02-05  6.4   -49.015  ...  earthquake          iscgem    iscgem\n",
              "10  1950-02-07  5.9    45.949  ...  earthquake          iscgem    iscgem\n",
              "11  1950-02-08  5.7    46.676  ...  earthquake          iscgem    iscgem\n",
              "\n",
              "[12 rows x 10 columns]"
            ]
          },
          "metadata": {
            "tags": []
          },
          "execution_count": 22
        }
      ]
    },
    {
      "cell_type": "code",
      "metadata": {
        "id": "5Q0Tg6bqRkEm",
        "colab_type": "code",
        "outputId": "0870b988-7fcb-4fa5-b8a6-57902496c8dd",
        "colab": {
          "base_uri": "https://localhost:8080/",
          "height": 629
        }
      },
      "source": [
        "df_quakes.plot(x=\"time\", y=\"mag\", figsize=(20, 10));"
      ],
      "execution_count": 0,
      "outputs": [
        {
          "output_type": "display_data",
          "data": {
            "image/png": "[encoded data removed]",
            "text/plain": [
              "<Figure size 1440x720 with 1 Axes>"
            ]
          },
          "metadata": {
            "tags": []
          }
        }
      ]
    },
    {
      "cell_type": "code",
      "metadata": {
        "id": "1eUJ90mjqDmQ",
        "colab_type": "code",
        "colab": {
          "base_uri": "https://localhost:8080/",
          "height": 34
        },
        "outputId": "c0908e6f-d69c-4c37-f68e-23bfa7615336"
      },
      "source": [
        "df_quakes.shape"
      ],
      "execution_count": 23,
      "outputs": [
        {
          "output_type": "execute_result",
          "data": {
            "text/plain": [
              "(28399, 10)"
            ]
          },
          "metadata": {
            "tags": []
          },
          "execution_count": 23
        }
      ]
    },
    {
      "cell_type": "code",
      "metadata": {
        "id": "U2h_yt13qOmb",
        "colab_type": "code",
        "colab": {
          "base_uri": "https://localhost:8080/",
          "height": 68
        },
        "outputId": "dc6abbeb-cfa8-41e2-cd80-e89d1443645b"
      },
      "source": [
        "df_quakes.columns"
      ],
      "execution_count": 24,
      "outputs": [
        {
          "output_type": "execute_result",
          "data": {
            "text/plain": [
              "Index(['time', 'mag', 'latitude', 'longitude', 'depth', 'magType', 'place',\n",
              "       'type', 'locationSource', 'magSource'],\n",
              "      dtype='object')"
            ]
          },
          "metadata": {
            "tags": []
          },
          "execution_count": 24
        }
      ]
    },
    {
      "cell_type": "code",
      "metadata": {
        "id": "xAi_e0tAUxY2",
        "colab_type": "code",
        "colab": {}
      },
      "source": [
        "def get_next_trading_day(date_in):\n",
        "  t1 = date_in\n",
        "  dayz = 1\n",
        "  while t1 not in df_sp500.index:\n",
        "    t1 = pd.to_datetime(date_in).date() + datetime.timedelta(days=dayz)\n",
        "    t1 = t1.strftime('%Y-%m-%d')\n",
        "    dayz += 1\n",
        "  return t1 "
      ],
      "execution_count": 0,
      "outputs": []
    },
    {
      "cell_type": "code",
      "metadata": {
        "id": "RlXMw2tiXhN4",
        "colab_type": "code",
        "colab": {}
      },
      "source": [
        "import datetime\n",
        "i = -1\n",
        "data = []\n",
        "for _, row in df_quakes.iterrows():\n",
        "\n",
        "  i += 1\n",
        "  \n",
        "  if row.time > \"2019-04-15\":\n",
        "    continue\n",
        "    \n",
        "  t0 = get_next_trading_day(row.time)\n",
        "  \n",
        "  t1 = pd.to_datetime(row.time).date() + datetime.timedelta(days=7)\n",
        "  t1 = t1.strftime('%Y-%m-%d')\n",
        "  t1 = get_next_trading_day(t1)\n",
        "\n",
        "  t2 = pd.to_datetime(row.time).date() + datetime.timedelta(days=14)\n",
        "  t2 = t2.strftime('%Y-%m-%d')\n",
        "  t2 = get_next_trading_day(t2)\n",
        "  \n",
        "  t3 = pd.to_datetime(row.time).date() + datetime.timedelta(days=30)\n",
        "  t3 = t3.strftime('%Y-%m-%d')\n",
        "  t3 = get_next_trading_day(t3)\n",
        "\n",
        "  x = (row.time, row.mag, row.latitude, row.longitude, row.depth, row.magType, row.place,\n",
        "       row.type, row.locationSource, row.magSource,\n",
        "            df_sp500.loc[t0].Close, df_sp500.loc[t1].Close,\n",
        "            df_sp500.loc[t2].Close, df_sp500.loc[t3].Close)\n",
        "  \n",
        "  data.append(x)"
      ],
      "execution_count": 0,
      "outputs": []
    },
    {
      "cell_type": "code",
      "metadata": {
        "id": "u3QI4YNTcec3",
        "colab_type": "code",
        "colab": {}
      },
      "source": [
        "df_quake_sp500 = pd.DataFrame(data=data, columns=['Date', 'Mag', 'Lat', 'Long', 'Depth', 'magType',\n",
        "                                                 'Place', 'Type', 'locationSource', 'magSource',\n",
        "                                                 'Price_Day_0', 'Price_Day_7', 'Price_Day_14', 'Price_Day_30'])"
      ],
      "execution_count": 0,
      "outputs": []
    },
    {
      "cell_type": "code",
      "metadata": {
        "id": "ZsBpGfPKcsmL",
        "colab_type": "code",
        "colab": {}
      },
      "source": [
        "df_quake_sp500[\"Appr_Day_7\"] = 100 * (df_quake_sp500[\"Price_Day_7\"] - df_quake_sp500[\"Price_Day_0\"]) / df_quake_sp500[\"Price_Day_0\"]\n",
        "df_quake_sp500[\"Appr_Day_14\"] = 100 * (df_quake_sp500[\"Price_Day_14\"] - df_quake_sp500[\"Price_Day_0\"]) / df_quake_sp500[\"Price_Day_0\"]\n",
        "df_quake_sp500[\"Appr_Day_30\"] = 100 * (df_quake_sp500[\"Price_Day_30\"] - df_quake_sp500[\"Price_Day_0\"]) / df_quake_sp500[\"Price_Day_0\"]"
      ],
      "execution_count": 0,
      "outputs": []
    },
    {
      "cell_type": "code",
      "metadata": {
        "id": "LpdMrSaRdYpW",
        "colab_type": "code",
        "outputId": "1560e588-6f3a-4bcf-e8d4-ae8313b3c6f7",
        "colab": {
          "base_uri": "https://localhost:8080/",
          "height": 317
        }
      },
      "source": [
        "df_quake_sp500.describe()"
      ],
      "execution_count": 29,
      "outputs": [
        {
          "output_type": "execute_result",
          "data": {
            "text/html": [
              "<div>\n",
              "<style scoped>\n",
              "    .dataframe tbody tr th:only-of-type {\n",
              "        vertical-align: middle;\n",
              "    }\n",
              "\n",
              "    .dataframe tbody tr th {\n",
              "        vertical-align: top;\n",
              "    }\n",
              "\n",
              "    .dataframe thead th {\n",
              "        text-align: right;\n",
              "    }\n",
              "</style>\n",
              "<table border=\"1\" class=\"dataframe\">\n",
              "  <thead>\n",
              "    <tr style=\"text-align: right;\">\n",
              "      <th></th>\n",
              "      <th>Mag</th>\n",
              "      <th>Lat</th>\n",
              "      <th>Long</th>\n",
              "      <th>Depth</th>\n",
              "      <th>Price_Day_0</th>\n",
              "      <th>Price_Day_7</th>\n",
              "      <th>Price_Day_14</th>\n",
              "      <th>Price_Day_30</th>\n",
              "      <th>Appr_Day_7</th>\n",
              "      <th>Appr_Day_14</th>\n",
              "      <th>Appr_Day_30</th>\n",
              "    </tr>\n",
              "  </thead>\n",
              "  <tbody>\n",
              "    <tr>\n",
              "      <th>count</th>\n",
              "      <td>28350.000000</td>\n",
              "      <td>28350.000000</td>\n",
              "      <td>28350.000000</td>\n",
              "      <td>28350.000000</td>\n",
              "      <td>28350.000000</td>\n",
              "      <td>28350.000000</td>\n",
              "      <td>28350.000000</td>\n",
              "      <td>28350.000000</td>\n",
              "      <td>28350.000000</td>\n",
              "      <td>28350.000000</td>\n",
              "      <td>28350.000000</td>\n",
              "    </tr>\n",
              "    <tr>\n",
              "      <th>mean</th>\n",
              "      <td>5.906566</td>\n",
              "      <td>3.567031</td>\n",
              "      <td>38.146964</td>\n",
              "      <td>66.053871</td>\n",
              "      <td>683.143406</td>\n",
              "      <td>683.837403</td>\n",
              "      <td>684.647007</td>\n",
              "      <td>686.705238</td>\n",
              "      <td>0.134707</td>\n",
              "      <td>0.304508</td>\n",
              "      <td>0.705035</td>\n",
              "    </tr>\n",
              "    <tr>\n",
              "      <th>std</th>\n",
              "      <td>0.428644</td>\n",
              "      <td>30.827646</td>\n",
              "      <td>125.537941</td>\n",
              "      <td>117.881268</td>\n",
              "      <td>703.810548</td>\n",
              "      <td>704.485844</td>\n",
              "      <td>705.148056</td>\n",
              "      <td>707.492082</td>\n",
              "      <td>2.187950</td>\n",
              "      <td>2.985993</td>\n",
              "      <td>4.248476</td>\n",
              "    </tr>\n",
              "    <tr>\n",
              "      <th>min</th>\n",
              "      <td>5.500000</td>\n",
              "      <td>-77.080000</td>\n",
              "      <td>-179.997000</td>\n",
              "      <td>-4.000000</td>\n",
              "      <td>16.660000</td>\n",
              "      <td>16.680000</td>\n",
              "      <td>16.680000</td>\n",
              "      <td>16.680000</td>\n",
              "      <td>-27.327973</td>\n",
              "      <td>-31.467933</td>\n",
              "      <td>-30.030416</td>\n",
              "    </tr>\n",
              "    <tr>\n",
              "      <th>25%</th>\n",
              "      <td>5.600000</td>\n",
              "      <td>-17.895850</td>\n",
              "      <td>-77.596000</td>\n",
              "      <td>15.000000</td>\n",
              "      <td>98.432501</td>\n",
              "      <td>98.529999</td>\n",
              "      <td>98.680000</td>\n",
              "      <td>98.959999</td>\n",
              "      <td>-1.004110</td>\n",
              "      <td>-1.237257</td>\n",
              "      <td>-1.524138</td>\n",
              "    </tr>\n",
              "    <tr>\n",
              "      <th>50%</th>\n",
              "      <td>5.800000</td>\n",
              "      <td>-1.746000</td>\n",
              "      <td>101.024500</td>\n",
              "      <td>33.000000</td>\n",
              "      <td>355.910004</td>\n",
              "      <td>356.504989</td>\n",
              "      <td>358.420013</td>\n",
              "      <td>359.519989</td>\n",
              "      <td>0.236847</td>\n",
              "      <td>0.516181</td>\n",
              "      <td>1.096742</td>\n",
              "    </tr>\n",
              "    <tr>\n",
              "      <th>75%</th>\n",
              "      <td>6.100000</td>\n",
              "      <td>30.562750</td>\n",
              "      <td>144.827750</td>\n",
              "      <td>49.200000</td>\n",
              "      <td>1201.584961</td>\n",
              "      <td>1202.079956</td>\n",
              "      <td>1198.349976</td>\n",
              "      <td>1198.552490</td>\n",
              "      <td>1.376069</td>\n",
              "      <td>1.990753</td>\n",
              "      <td>3.167776</td>\n",
              "    </tr>\n",
              "    <tr>\n",
              "      <th>max</th>\n",
              "      <td>9.500000</td>\n",
              "      <td>86.922900</td>\n",
              "      <td>179.998000</td>\n",
              "      <td>700.000000</td>\n",
              "      <td>2930.750000</td>\n",
              "      <td>2930.750000</td>\n",
              "      <td>2939.879883</td>\n",
              "      <td>2945.830078</td>\n",
              "      <td>14.116136</td>\n",
              "      <td>15.944817</td>\n",
              "      <td>22.405684</td>\n",
              "    </tr>\n",
              "  </tbody>\n",
              "</table>\n",
              "</div>"
            ],
            "text/plain": [
              "                Mag           Lat  ...   Appr_Day_14   Appr_Day_30\n",
              "count  28350.000000  28350.000000  ...  28350.000000  28350.000000\n",
              "mean       5.906566      3.567031  ...      0.304508      0.705035\n",
              "std        0.428644     30.827646  ...      2.985993      4.248476\n",
              "min        5.500000    -77.080000  ...    -31.467933    -30.030416\n",
              "25%        5.600000    -17.895850  ...     -1.237257     -1.524138\n",
              "50%        5.800000     -1.746000  ...      0.516181      1.096742\n",
              "75%        6.100000     30.562750  ...      1.990753      3.167776\n",
              "max        9.500000     86.922900  ...     15.944817     22.405684\n",
              "\n",
              "[8 rows x 11 columns]"
            ]
          },
          "metadata": {
            "tags": []
          },
          "execution_count": 29
        }
      ]
    },
    {
      "cell_type": "code",
      "metadata": {
        "id": "d8XZ-v0arJOz",
        "colab_type": "code",
        "colab": {}
      },
      "source": [
        "# round quake mag to single digit prec\n",
        "df_quake_sp500['Mag'] = df_quake_sp500['Mag'].apply(lambda x: round(x, 1))"
      ],
      "execution_count": 0,
      "outputs": []
    },
    {
      "cell_type": "code",
      "metadata": {
        "id": "sUVOLXg7df7K",
        "colab_type": "code",
        "outputId": "c22d38fd-67d5-4e53-be88-fe064e7230d0",
        "colab": {
          "base_uri": "https://localhost:8080/",
          "height": 635
        }
      },
      "source": [
        "df = df_quake_sp500.groupby(['Mag'])['Appr_Day_30'].mean()\n",
        "df.plot.bar(figsize=(20, 10));"
      ],
      "execution_count": 33,
      "outputs": [
        {
          "output_type": "display_data",
          "data": {
            "image/png": "[encoded data removed]",
            "text/plain": [
              "<Figure size 1440x720 with 1 Axes>"
            ]
          },
          "metadata": {
            "tags": []
          }
        }
      ]
    },
    {
      "cell_type": "code",
      "metadata": {
        "id": "LVEtkQzM8pWA",
        "colab_type": "code",
        "outputId": "9cbc6ed7-2cd9-4fef-a204-1d1fa68309d4",
        "colab": {
          "base_uri": "https://localhost:8080/",
          "height": 697
        }
      },
      "source": [
        "df"
      ],
      "execution_count": 34,
      "outputs": [
        {
          "output_type": "execute_result",
          "data": {
            "text/plain": [
              "Mag\n",
              "5.5    0.759863\n",
              "5.6    0.628675\n",
              "5.7    0.576646\n",
              "5.8    0.757653\n",
              "5.9    0.634391\n",
              "6.0    0.711150\n",
              "6.1    0.596754\n",
              "6.2    0.956770\n",
              "6.3    0.937403\n",
              "6.4    0.895999\n",
              "6.5    1.026716\n",
              "6.6    0.545515\n",
              "6.7    0.784892\n",
              "6.8    0.848286\n",
              "6.9    0.270385\n",
              "7.0    0.892119\n",
              "7.1    0.818553\n",
              "7.2    0.124668\n",
              "7.3    0.449155\n",
              "7.4    0.024738\n",
              "7.5    0.362847\n",
              "7.6    0.761823\n",
              "7.7   -0.062216\n",
              "7.8    0.968380\n",
              "7.9    0.419737\n",
              "8.0    1.187691\n",
              "8.1    1.230510\n",
              "8.2    1.394880\n",
              "8.3    0.495057\n",
              "8.4    1.934919\n",
              "8.5    1.286307\n",
              "8.6    0.861004\n",
              "8.7   -0.845036\n",
              "8.8    5.154566\n",
              "9.0    3.810300\n",
              "9.1   -0.741434\n",
              "9.2    0.265351\n",
              "9.5    2.421096\n",
              "Name: Appr_Day_30, dtype: float64"
            ]
          },
          "metadata": {
            "tags": []
          },
          "execution_count": 34
        }
      ]
    },
    {
      "cell_type": "code",
      "metadata": {
        "id": "Zkf98vJ3d8JU",
        "colab_type": "code",
        "colab": {}
      },
      "source": [
        "data = pd.Series(df_quake_sp500.Mag.value_counts().sort_index())"
      ],
      "execution_count": 0,
      "outputs": []
    },
    {
      "cell_type": "code",
      "metadata": {
        "id": "QOcApTe8BB5P",
        "colab_type": "code",
        "outputId": "27825147-c704-4cbe-bbea-59b4ea1b6b59",
        "colab": {
          "base_uri": "https://localhost:8080/",
          "height": 34
        }
      },
      "source": [
        "type(data)"
      ],
      "execution_count": 0,
      "outputs": [
        {
          "output_type": "execute_result",
          "data": {
            "text/plain": [
              "pandas.core.series.Series"
            ]
          },
          "metadata": {
            "tags": []
          },
          "execution_count": 97
        }
      ]
    },
    {
      "cell_type": "code",
      "metadata": {
        "id": "SSPUWFi5B98u",
        "colab_type": "code",
        "outputId": "a49047ea-daa7-4374-9924-46511a143215",
        "colab": {
          "base_uri": "https://localhost:8080/",
          "height": 680
        }
      },
      "source": [
        "data"
      ],
      "execution_count": 37,
      "outputs": [
        {
          "output_type": "execute_result",
          "data": {
            "text/plain": [
              "5.5    5136\n",
              "5.6    4437\n",
              "5.7    3614\n",
              "5.8    2939\n",
              "5.9    2459\n",
              "6.0    2117\n",
              "6.1    1620\n",
              "6.2    1265\n",
              "6.3    1052\n",
              "6.4     737\n",
              "6.5     643\n",
              "6.6     463\n",
              "6.7     384\n",
              "6.8     315\n",
              "6.9     237\n",
              "7.0     207\n",
              "7.1     158\n",
              "7.2     123\n",
              "7.3      88\n",
              "7.4      67\n",
              "7.5      59\n",
              "7.6      59\n",
              "7.7      48\n",
              "7.8      40\n",
              "7.9      26\n",
              "8.0      14\n",
              "8.1      11\n",
              "8.2      11\n",
              "8.3       7\n",
              "8.4       2\n",
              "8.5       1\n",
              "8.6       4\n",
              "8.7       1\n",
              "8.8       1\n",
              "9.0       1\n",
              "9.1       2\n",
              "9.2       1\n",
              "9.5       1\n",
              "Name: Mag, dtype: int64"
            ]
          },
          "metadata": {
            "tags": []
          },
          "execution_count": 37
        }
      ]
    },
    {
      "cell_type": "code",
      "metadata": {
        "id": "56onmlm6AWST",
        "colab_type": "code",
        "colab": {}
      },
      "source": [
        "df_quake_sp500_counts = pd.DataFrame(columns=['Mag', 'Ct'], index=[0])\n",
        "df_quake_sp500_counts = pd.concat([df_quake_sp500_counts, data.to_frame()], ignore_index=True, sort=True)\n",
        "df_quake_sp500_counts = df_quake_sp500_counts.iloc[1:]\n",
        "df_quake_sp500_counts.Ct = data.index\n",
        "df_quake_sp500_counts.columns = ['Mag', 'Count']"
      ],
      "execution_count": 0,
      "outputs": []
    },
    {
      "cell_type": "code",
      "metadata": {
        "id": "y6W7ufyrCBBa",
        "colab_type": "code",
        "outputId": "3946e80f-429d-4d58-8b4d-0a035a5729ba",
        "colab": {
          "base_uri": "https://localhost:8080/",
          "height": 1227
        }
      },
      "source": [
        "df_quake_sp500_counts"
      ],
      "execution_count": 42,
      "outputs": [
        {
          "output_type": "execute_result",
          "data": {
            "text/html": [
              "<div>\n",
              "<style scoped>\n",
              "    .dataframe tbody tr th:only-of-type {\n",
              "        vertical-align: middle;\n",
              "    }\n",
              "\n",
              "    .dataframe tbody tr th {\n",
              "        vertical-align: top;\n",
              "    }\n",
              "\n",
              "    .dataframe thead th {\n",
              "        text-align: right;\n",
              "    }\n",
              "</style>\n",
              "<table border=\"1\" class=\"dataframe\">\n",
              "  <thead>\n",
              "    <tr style=\"text-align: right;\">\n",
              "      <th></th>\n",
              "      <th>Mag</th>\n",
              "      <th>Count</th>\n",
              "    </tr>\n",
              "  </thead>\n",
              "  <tbody>\n",
              "    <tr>\n",
              "      <th>1</th>\n",
              "      <td>5.5</td>\n",
              "      <td>5136</td>\n",
              "    </tr>\n",
              "    <tr>\n",
              "      <th>2</th>\n",
              "      <td>5.6</td>\n",
              "      <td>4437</td>\n",
              "    </tr>\n",
              "    <tr>\n",
              "      <th>3</th>\n",
              "      <td>5.7</td>\n",
              "      <td>3614</td>\n",
              "    </tr>\n",
              "    <tr>\n",
              "      <th>4</th>\n",
              "      <td>5.8</td>\n",
              "      <td>2939</td>\n",
              "    </tr>\n",
              "    <tr>\n",
              "      <th>5</th>\n",
              "      <td>5.9</td>\n",
              "      <td>2459</td>\n",
              "    </tr>\n",
              "    <tr>\n",
              "      <th>6</th>\n",
              "      <td>6.0</td>\n",
              "      <td>2117</td>\n",
              "    </tr>\n",
              "    <tr>\n",
              "      <th>7</th>\n",
              "      <td>6.1</td>\n",
              "      <td>1620</td>\n",
              "    </tr>\n",
              "    <tr>\n",
              "      <th>8</th>\n",
              "      <td>6.2</td>\n",
              "      <td>1265</td>\n",
              "    </tr>\n",
              "    <tr>\n",
              "      <th>9</th>\n",
              "      <td>6.3</td>\n",
              "      <td>1052</td>\n",
              "    </tr>\n",
              "    <tr>\n",
              "      <th>10</th>\n",
              "      <td>6.4</td>\n",
              "      <td>737</td>\n",
              "    </tr>\n",
              "    <tr>\n",
              "      <th>11</th>\n",
              "      <td>6.5</td>\n",
              "      <td>643</td>\n",
              "    </tr>\n",
              "    <tr>\n",
              "      <th>12</th>\n",
              "      <td>6.6</td>\n",
              "      <td>463</td>\n",
              "    </tr>\n",
              "    <tr>\n",
              "      <th>13</th>\n",
              "      <td>6.7</td>\n",
              "      <td>384</td>\n",
              "    </tr>\n",
              "    <tr>\n",
              "      <th>14</th>\n",
              "      <td>6.8</td>\n",
              "      <td>315</td>\n",
              "    </tr>\n",
              "    <tr>\n",
              "      <th>15</th>\n",
              "      <td>6.9</td>\n",
              "      <td>237</td>\n",
              "    </tr>\n",
              "    <tr>\n",
              "      <th>16</th>\n",
              "      <td>7.0</td>\n",
              "      <td>207</td>\n",
              "    </tr>\n",
              "    <tr>\n",
              "      <th>17</th>\n",
              "      <td>7.1</td>\n",
              "      <td>158</td>\n",
              "    </tr>\n",
              "    <tr>\n",
              "      <th>18</th>\n",
              "      <td>7.2</td>\n",
              "      <td>123</td>\n",
              "    </tr>\n",
              "    <tr>\n",
              "      <th>19</th>\n",
              "      <td>7.3</td>\n",
              "      <td>88</td>\n",
              "    </tr>\n",
              "    <tr>\n",
              "      <th>20</th>\n",
              "      <td>7.4</td>\n",
              "      <td>67</td>\n",
              "    </tr>\n",
              "    <tr>\n",
              "      <th>21</th>\n",
              "      <td>7.5</td>\n",
              "      <td>59</td>\n",
              "    </tr>\n",
              "    <tr>\n",
              "      <th>22</th>\n",
              "      <td>7.6</td>\n",
              "      <td>59</td>\n",
              "    </tr>\n",
              "    <tr>\n",
              "      <th>23</th>\n",
              "      <td>7.7</td>\n",
              "      <td>48</td>\n",
              "    </tr>\n",
              "    <tr>\n",
              "      <th>24</th>\n",
              "      <td>7.8</td>\n",
              "      <td>40</td>\n",
              "    </tr>\n",
              "    <tr>\n",
              "      <th>25</th>\n",
              "      <td>7.9</td>\n",
              "      <td>26</td>\n",
              "    </tr>\n",
              "    <tr>\n",
              "      <th>26</th>\n",
              "      <td>8.0</td>\n",
              "      <td>14</td>\n",
              "    </tr>\n",
              "    <tr>\n",
              "      <th>27</th>\n",
              "      <td>8.1</td>\n",
              "      <td>11</td>\n",
              "    </tr>\n",
              "    <tr>\n",
              "      <th>28</th>\n",
              "      <td>8.2</td>\n",
              "      <td>11</td>\n",
              "    </tr>\n",
              "    <tr>\n",
              "      <th>29</th>\n",
              "      <td>8.3</td>\n",
              "      <td>7</td>\n",
              "    </tr>\n",
              "    <tr>\n",
              "      <th>30</th>\n",
              "      <td>8.4</td>\n",
              "      <td>2</td>\n",
              "    </tr>\n",
              "    <tr>\n",
              "      <th>31</th>\n",
              "      <td>8.5</td>\n",
              "      <td>1</td>\n",
              "    </tr>\n",
              "    <tr>\n",
              "      <th>32</th>\n",
              "      <td>8.6</td>\n",
              "      <td>4</td>\n",
              "    </tr>\n",
              "    <tr>\n",
              "      <th>33</th>\n",
              "      <td>8.7</td>\n",
              "      <td>1</td>\n",
              "    </tr>\n",
              "    <tr>\n",
              "      <th>34</th>\n",
              "      <td>8.8</td>\n",
              "      <td>1</td>\n",
              "    </tr>\n",
              "    <tr>\n",
              "      <th>35</th>\n",
              "      <td>9.0</td>\n",
              "      <td>1</td>\n",
              "    </tr>\n",
              "    <tr>\n",
              "      <th>36</th>\n",
              "      <td>9.1</td>\n",
              "      <td>2</td>\n",
              "    </tr>\n",
              "    <tr>\n",
              "      <th>37</th>\n",
              "      <td>9.2</td>\n",
              "      <td>1</td>\n",
              "    </tr>\n",
              "    <tr>\n",
              "      <th>38</th>\n",
              "      <td>9.5</td>\n",
              "      <td>1</td>\n",
              "    </tr>\n",
              "  </tbody>\n",
              "</table>\n",
              "</div>"
            ],
            "text/plain": [
              "    Mag Count\n",
              "1   5.5  5136\n",
              "2   5.6  4437\n",
              "3   5.7  3614\n",
              "4   5.8  2939\n",
              "5   5.9  2459\n",
              "6   6.0  2117\n",
              "7   6.1  1620\n",
              "8   6.2  1265\n",
              "9   6.3  1052\n",
              "10  6.4   737\n",
              "11  6.5   643\n",
              "12  6.6   463\n",
              "13  6.7   384\n",
              "14  6.8   315\n",
              "15  6.9   237\n",
              "16  7.0   207\n",
              "17  7.1   158\n",
              "18  7.2   123\n",
              "19  7.3    88\n",
              "20  7.4    67\n",
              "21  7.5    59\n",
              "22  7.6    59\n",
              "23  7.7    48\n",
              "24  7.8    40\n",
              "25  7.9    26\n",
              "26  8.0    14\n",
              "27  8.1    11\n",
              "28  8.2    11\n",
              "29  8.3     7\n",
              "30  8.4     2\n",
              "31  8.5     1\n",
              "32  8.6     4\n",
              "33  8.7     1\n",
              "34  8.8     1\n",
              "35  9.0     1\n",
              "36  9.1     2\n",
              "37  9.2     1\n",
              "38  9.5     1"
            ]
          },
          "metadata": {
            "tags": []
          },
          "execution_count": 42
        }
      ]
    },
    {
      "cell_type": "code",
      "metadata": {
        "id": "nopur87OPrJZ",
        "colab_type": "code",
        "outputId": "48b78ad6-f33b-4d41-b733-034c1d317b7f",
        "colab": {
          "base_uri": "https://localhost:8080/",
          "height": 191
        }
      },
      "source": [
        "df_quake_sp500_counts.T"
      ],
      "execution_count": 43,
      "outputs": [
        {
          "output_type": "execute_result",
          "data": {
            "text/html": [
              "<div>\n",
              "<style scoped>\n",
              "    .dataframe tbody tr th:only-of-type {\n",
              "        vertical-align: middle;\n",
              "    }\n",
              "\n",
              "    .dataframe tbody tr th {\n",
              "        vertical-align: top;\n",
              "    }\n",
              "\n",
              "    .dataframe thead th {\n",
              "        text-align: right;\n",
              "    }\n",
              "</style>\n",
              "<table border=\"1\" class=\"dataframe\">\n",
              "  <thead>\n",
              "    <tr style=\"text-align: right;\">\n",
              "      <th></th>\n",
              "      <th>1</th>\n",
              "      <th>2</th>\n",
              "      <th>3</th>\n",
              "      <th>4</th>\n",
              "      <th>5</th>\n",
              "      <th>6</th>\n",
              "      <th>7</th>\n",
              "      <th>8</th>\n",
              "      <th>9</th>\n",
              "      <th>10</th>\n",
              "      <th>11</th>\n",
              "      <th>12</th>\n",
              "      <th>13</th>\n",
              "      <th>14</th>\n",
              "      <th>15</th>\n",
              "      <th>16</th>\n",
              "      <th>17</th>\n",
              "      <th>18</th>\n",
              "      <th>19</th>\n",
              "      <th>20</th>\n",
              "      <th>21</th>\n",
              "      <th>22</th>\n",
              "      <th>23</th>\n",
              "      <th>24</th>\n",
              "      <th>25</th>\n",
              "      <th>26</th>\n",
              "      <th>27</th>\n",
              "      <th>28</th>\n",
              "      <th>29</th>\n",
              "      <th>30</th>\n",
              "      <th>31</th>\n",
              "      <th>32</th>\n",
              "      <th>33</th>\n",
              "      <th>34</th>\n",
              "      <th>35</th>\n",
              "      <th>36</th>\n",
              "      <th>37</th>\n",
              "      <th>38</th>\n",
              "    </tr>\n",
              "  </thead>\n",
              "  <tbody>\n",
              "    <tr>\n",
              "      <th>Mag</th>\n",
              "      <td>5.5</td>\n",
              "      <td>5.6</td>\n",
              "      <td>5.7</td>\n",
              "      <td>5.8</td>\n",
              "      <td>5.9</td>\n",
              "      <td>6</td>\n",
              "      <td>6.1</td>\n",
              "      <td>6.2</td>\n",
              "      <td>6.3</td>\n",
              "      <td>6.4</td>\n",
              "      <td>6.5</td>\n",
              "      <td>6.6</td>\n",
              "      <td>6.7</td>\n",
              "      <td>6.8</td>\n",
              "      <td>6.9</td>\n",
              "      <td>7</td>\n",
              "      <td>7.1</td>\n",
              "      <td>7.2</td>\n",
              "      <td>7.3</td>\n",
              "      <td>7.4</td>\n",
              "      <td>7.5</td>\n",
              "      <td>7.6</td>\n",
              "      <td>7.7</td>\n",
              "      <td>7.8</td>\n",
              "      <td>7.9</td>\n",
              "      <td>8</td>\n",
              "      <td>8.1</td>\n",
              "      <td>8.2</td>\n",
              "      <td>8.3</td>\n",
              "      <td>8.4</td>\n",
              "      <td>8.5</td>\n",
              "      <td>8.6</td>\n",
              "      <td>8.7</td>\n",
              "      <td>8.8</td>\n",
              "      <td>9</td>\n",
              "      <td>9.1</td>\n",
              "      <td>9.2</td>\n",
              "      <td>9.5</td>\n",
              "    </tr>\n",
              "    <tr>\n",
              "      <th>Count</th>\n",
              "      <td>5136</td>\n",
              "      <td>4437</td>\n",
              "      <td>3614</td>\n",
              "      <td>2939</td>\n",
              "      <td>2459</td>\n",
              "      <td>2117</td>\n",
              "      <td>1620</td>\n",
              "      <td>1265</td>\n",
              "      <td>1052</td>\n",
              "      <td>737</td>\n",
              "      <td>643</td>\n",
              "      <td>463</td>\n",
              "      <td>384</td>\n",
              "      <td>315</td>\n",
              "      <td>237</td>\n",
              "      <td>207</td>\n",
              "      <td>158</td>\n",
              "      <td>123</td>\n",
              "      <td>88</td>\n",
              "      <td>67</td>\n",
              "      <td>59</td>\n",
              "      <td>59</td>\n",
              "      <td>48</td>\n",
              "      <td>40</td>\n",
              "      <td>26</td>\n",
              "      <td>14</td>\n",
              "      <td>11</td>\n",
              "      <td>11</td>\n",
              "      <td>7</td>\n",
              "      <td>2</td>\n",
              "      <td>1</td>\n",
              "      <td>4</td>\n",
              "      <td>1</td>\n",
              "      <td>1</td>\n",
              "      <td>1</td>\n",
              "      <td>2</td>\n",
              "      <td>1</td>\n",
              "      <td>1</td>\n",
              "    </tr>\n",
              "  </tbody>\n",
              "</table>\n",
              "</div>"
            ],
            "text/plain": [
              "         1     2     3     4     5     6   ...   33   34 35   36   37   38\n",
              "Mag     5.5   5.6   5.7   5.8   5.9     6  ...  8.7  8.8  9  9.1  9.2  9.5\n",
              "Count  5136  4437  3614  2939  2459  2117  ...    1    1  1    2    1    1\n",
              "\n",
              "[2 rows x 38 columns]"
            ]
          },
          "metadata": {
            "tags": []
          },
          "execution_count": 43
        }
      ]
    },
    {
      "cell_type": "code",
      "metadata": {
        "id": "q3uXdd7dr8aF",
        "colab_type": "code",
        "colab": {}
      },
      "source": [
        "DATA_DIR = \"\"\n",
        "\n",
        "df_quake_sp500.to_csv(DATA_DIR + \"S&P 500 Price Change by Earthquake(5.5+).csv\")\n",
        "df_quake_sp500_counts.to_csv(DATA_DIR + \"sp500_counts(5.5+).csv\")"
      ],
      "execution_count": 0,
      "outputs": []
    },
    {
      "cell_type": "markdown",
      "metadata": {
        "id": "9-HDXLNVr3C_",
        "colab_type": "text"
      },
      "source": [
        "##Rest is USA only"
      ]
    },
    {
      "cell_type": "code",
      "metadata": {
        "id": "8VxtK7shq0q2",
        "colab_type": "code",
        "colab": {}
      },
      "source": [
        "df_quake_sp500_counts.to_csv(\"sp500_counts.csv\")"
      ],
      "execution_count": 0,
      "outputs": []
    },
    {
      "cell_type": "code",
      "metadata": {
        "id": "ggoJWjnXdVje",
        "colab_type": "code",
        "outputId": "a0a62b09-8047-4739-9177-a0363e9afebb",
        "colab": {
          "base_uri": "https://localhost:8080/",
          "height": 170
        }
      },
      "source": [
        "df_quakes_usa = df_quakes.query('32.5 <= latitude < 48.75').query('-123 <= longitude < -69')\n",
        "df_quakes_usa.info()"
      ],
      "execution_count": 0,
      "outputs": [
        {
          "output_type": "stream",
          "text": [
            "<class 'pandas.core.frame.DataFrame'>\n",
            "Int64Index: 13 entries, 53 to 1317\n",
            "Data columns (total 4 columns):\n",
            "time         13 non-null object\n",
            "mag          13 non-null float64\n",
            "latitude     13 non-null float64\n",
            "longitude    13 non-null float64\n",
            "dtypes: float64(3), object(1)\n",
            "memory usage: 520.0+ bytes\n"
          ],
          "name": "stdout"
        }
      ]
    },
    {
      "cell_type": "code",
      "metadata": {
        "id": "p8wiLrvPeuZY",
        "colab_type": "code",
        "outputId": "8890f9c9-fb78-4e76-c132-7a6da21c2a02",
        "colab": {
          "base_uri": "https://localhost:8080/",
          "height": 452
        }
      },
      "source": [
        "df_quakes_usa"
      ],
      "execution_count": 0,
      "outputs": [
        {
          "output_type": "execute_result",
          "data": {
            "text/html": [
              "<div>\n",
              "<style scoped>\n",
              "    .dataframe tbody tr th:only-of-type {\n",
              "        vertical-align: middle;\n",
              "    }\n",
              "\n",
              "    .dataframe tbody tr th {\n",
              "        vertical-align: top;\n",
              "    }\n",
              "\n",
              "    .dataframe thead th {\n",
              "        text-align: right;\n",
              "    }\n",
              "</style>\n",
              "<table border=\"1\" class=\"dataframe\">\n",
              "  <thead>\n",
              "    <tr style=\"text-align: right;\">\n",
              "      <th></th>\n",
              "      <th>time</th>\n",
              "      <th>mag</th>\n",
              "      <th>latitude</th>\n",
              "      <th>longitude</th>\n",
              "    </tr>\n",
              "  </thead>\n",
              "  <tbody>\n",
              "    <tr>\n",
              "      <th>53</th>\n",
              "      <td>1952-07-21</td>\n",
              "      <td>7.50</td>\n",
              "      <td>34.958167</td>\n",
              "      <td>-118.998000</td>\n",
              "    </tr>\n",
              "    <tr>\n",
              "      <th>97</th>\n",
              "      <td>1954-07-06</td>\n",
              "      <td>6.80</td>\n",
              "      <td>39.420000</td>\n",
              "      <td>-118.530000</td>\n",
              "    </tr>\n",
              "    <tr>\n",
              "      <th>104</th>\n",
              "      <td>1954-12-16</td>\n",
              "      <td>6.92</td>\n",
              "      <td>39.800000</td>\n",
              "      <td>-118.100000</td>\n",
              "    </tr>\n",
              "    <tr>\n",
              "      <th>105</th>\n",
              "      <td>1954-12-16</td>\n",
              "      <td>7.26</td>\n",
              "      <td>39.283000</td>\n",
              "      <td>-118.117000</td>\n",
              "    </tr>\n",
              "    <tr>\n",
              "      <th>205</th>\n",
              "      <td>1959-08-18</td>\n",
              "      <td>7.30</td>\n",
              "      <td>44.712000</td>\n",
              "      <td>-111.215000</td>\n",
              "    </tr>\n",
              "    <tr>\n",
              "      <th>345</th>\n",
              "      <td>1965-04-29</td>\n",
              "      <td>6.73</td>\n",
              "      <td>47.400000</td>\n",
              "      <td>-122.300000</td>\n",
              "    </tr>\n",
              "    <tr>\n",
              "      <th>794</th>\n",
              "      <td>1983-05-02</td>\n",
              "      <td>6.70</td>\n",
              "      <td>36.231667</td>\n",
              "      <td>-120.312000</td>\n",
              "    </tr>\n",
              "    <tr>\n",
              "      <th>807</th>\n",
              "      <td>1983-10-28</td>\n",
              "      <td>6.90</td>\n",
              "      <td>44.058000</td>\n",
              "      <td>-113.857000</td>\n",
              "    </tr>\n",
              "    <tr>\n",
              "      <th>969</th>\n",
              "      <td>1989-10-18</td>\n",
              "      <td>6.90</td>\n",
              "      <td>37.036167</td>\n",
              "      <td>-121.879833</td>\n",
              "    </tr>\n",
              "    <tr>\n",
              "      <th>1049</th>\n",
              "      <td>1992-06-28</td>\n",
              "      <td>7.30</td>\n",
              "      <td>34.200000</td>\n",
              "      <td>-116.437000</td>\n",
              "    </tr>\n",
              "    <tr>\n",
              "      <th>1098</th>\n",
              "      <td>1994-01-17</td>\n",
              "      <td>6.70</td>\n",
              "      <td>34.213000</td>\n",
              "      <td>-118.537000</td>\n",
              "    </tr>\n",
              "    <tr>\n",
              "      <th>1274</th>\n",
              "      <td>1999-10-16</td>\n",
              "      <td>7.10</td>\n",
              "      <td>34.603333</td>\n",
              "      <td>-116.265000</td>\n",
              "    </tr>\n",
              "    <tr>\n",
              "      <th>1317</th>\n",
              "      <td>2001-02-28</td>\n",
              "      <td>6.80</td>\n",
              "      <td>47.149000</td>\n",
              "      <td>-122.726667</td>\n",
              "    </tr>\n",
              "  </tbody>\n",
              "</table>\n",
              "</div>"
            ],
            "text/plain": [
              "            time   mag   latitude   longitude\n",
              "53    1952-07-21  7.50  34.958167 -118.998000\n",
              "97    1954-07-06  6.80  39.420000 -118.530000\n",
              "104   1954-12-16  6.92  39.800000 -118.100000\n",
              "105   1954-12-16  7.26  39.283000 -118.117000\n",
              "205   1959-08-18  7.30  44.712000 -111.215000\n",
              "345   1965-04-29  6.73  47.400000 -122.300000\n",
              "794   1983-05-02  6.70  36.231667 -120.312000\n",
              "807   1983-10-28  6.90  44.058000 -113.857000\n",
              "969   1989-10-18  6.90  37.036167 -121.879833\n",
              "1049  1992-06-28  7.30  34.200000 -116.437000\n",
              "1098  1994-01-17  6.70  34.213000 -118.537000\n",
              "1274  1999-10-16  7.10  34.603333 -116.265000\n",
              "1317  2001-02-28  6.80  47.149000 -122.726667"
            ]
          },
          "metadata": {
            "tags": []
          },
          "execution_count": 35
        }
      ]
    },
    {
      "cell_type": "code",
      "metadata": {
        "id": "FGeFwEWRdnHg",
        "colab_type": "code",
        "colab": {}
      },
      "source": [
        "i = -1\n",
        "data = []\n",
        "for _, row in df_quakes_usa.iterrows():\n",
        "\n",
        "  i += 1\n",
        "  \n",
        "  if row.time > \"2019-04-15\":\n",
        "    continue\n",
        "    \n",
        "  t0 = get_next_trading_day(row.time)\n",
        "  \n",
        "  t1 = pd.to_datetime(row.time).date() + datetime.timedelta(days=7)\n",
        "  t1 = t1.strftime('%Y-%m-%d')\n",
        "  t1 = get_next_trading_day(t1)\n",
        "\n",
        "  t2 = pd.to_datetime(row.time).date() + datetime.timedelta(days=14)\n",
        "  t2 = t2.strftime('%Y-%m-%d')\n",
        "  t2 = get_next_trading_day(t2)\n",
        "  \n",
        "  t3 = pd.to_datetime(row.time).date() + datetime.timedelta(days=30)\n",
        "  t3 = t3.strftime('%Y-%m-%d')\n",
        "  t3 = get_next_trading_day(t3)\n",
        "\n",
        "  x = (row.time, row.mag, df_sp500.loc[t0].Close, df_sp500.loc[t1].Close,\n",
        "            df_sp500.loc[t2].Close, df_sp500.loc[t3].Close)\n",
        "  \n",
        "  data.append(x)\n",
        "df_quake_sp500_usa = pd.DataFrame(data=data, columns=['Date', 'Mag', 'Price_Day_0', 'Price_Day_7', 'Price_Day_14', 'Price_Day_30'])\n",
        "df_quake_sp500_usa[\"Appr_Day_7\"] = 100 * (df_quake_sp500_usa[\"Price_Day_7\"] - df_quake_sp500_usa[\"Price_Day_0\"]) / df_quake_sp500_usa[\"Price_Day_0\"]\n",
        "df_quake_sp500_usa[\"Appr_Day_14\"] = 100 * (df_quake_sp500_usa[\"Price_Day_14\"] - df_quake_sp500_usa[\"Price_Day_0\"]) / df_quake_sp500_usa[\"Price_Day_0\"]\n",
        "df_quake_sp500_usa[\"Appr_Day_30\"] = 100 * (df_quake_sp500_usa[\"Price_Day_30\"] - df_quake_sp500_usa[\"Price_Day_0\"]) / df_quake_sp500_usa[\"Price_Day_0\"]"
      ],
      "execution_count": 0,
      "outputs": []
    },
    {
      "cell_type": "code",
      "metadata": {
        "id": "0FeSc-5BefnH",
        "colab_type": "code",
        "outputId": "ec5a370b-a348-4f27-e5e0-f2cad02d70b1",
        "colab": {
          "base_uri": "https://localhost:8080/",
          "height": 621
        }
      },
      "source": [
        "df = df_quake_sp500_usa.groupby(['Mag'])['Appr_Day_30'].mean()\n",
        "df.plot.bar(figsize=(20, 10));"
      ],
      "execution_count": 0,
      "outputs": [
        {
          "output_type": "display_data",
          "data": {
            "image/png": "[encoded data removed]",
            "text/plain": [
              "<Figure size 1440x720 with 1 Axes>"
            ]
          },
          "metadata": {
            "tags": []
          }
        }
      ]
    }
  ]
}