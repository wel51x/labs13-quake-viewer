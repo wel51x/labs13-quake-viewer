{
 "cells": [
  {
   "cell_type": "code",
   "execution_count": 1,
   "metadata": {},
   "outputs": [
    {
     "name": "stdout",
     "output_type": "stream",
     "text": [
      "Collecting pip\n",
      "\u001b[?25l  Downloading https://files.pythonhosted.org/packages/5c/e0/be401c003291b56efc55aeba6a80ab790d3d4cece2778288d65323009420/pip-19.1.1-py2.py3-none-any.whl (1.4MB)\n",
      "\u001b[K    100% |████████████████████████████████| 1.4MB 20.7MB/s \n",
      "\u001b[?25hInstalling collected packages: pip\n",
      "  Found existing installation: pip 10.0.1\n",
      "    Uninstalling pip-10.0.1:\n",
      "      Successfully uninstalled pip-10.0.1\n",
      "Successfully installed pip-19.1.1\n"
     ]
    }
   ],
   "source": [
    "!pip install -U pip"
   ]
  },
  {
   "cell_type": "code",
   "execution_count": 2,
   "metadata": {},
   "outputs": [
    {
     "name": "stdout",
     "output_type": "stream",
     "text": [
      "Collecting xgboost\n",
      "\u001b[?25l  Downloading https://files.pythonhosted.org/packages/c1/24/5fe7237b2eca13ee0cfb100bec8c23f4e69ce9df852a64b0493d49dae4e0/xgboost-0.90-py2.py3-none-manylinux1_x86_64.whl (142.8MB)\n",
      "\u001b[K     |████████████████████████████████| 142.8MB 63.5MB/s \n",
      "\u001b[?25hRequirement already satisfied, skipping upgrade: scipy in /home/ec2-user/anaconda3/envs/amazonei_mxnet_p36/lib/python3.6/site-packages (from xgboost) (1.1.0)\n",
      "Requirement already satisfied, skipping upgrade: numpy in /home/ec2-user/anaconda3/envs/amazonei_mxnet_p36/lib/python3.6/site-packages (from xgboost) (1.14.6)\n",
      "Installing collected packages: xgboost\n",
      "Successfully installed xgboost-0.90\n"
     ]
    }
   ],
   "source": [
    "!pip install -U xgboost"
   ]
  },
  {
   "cell_type": "code",
   "execution_count": 3,
   "metadata": {
    "colab": {},
    "colab_type": "code",
    "id": "R0iis46JultV"
   },
   "outputs": [],
   "source": [
    "import numpy as np\n",
    "import pandas as pd\n",
    "from sklearn.model_selection import train_test_split\n",
    "from xgboost import XGBClassifier"
   ]
  },
  {
   "cell_type": "code",
   "execution_count": 4,
   "metadata": {
    "colab": {
     "base_uri": "https://localhost:8080/",
     "height": 34
    },
    "colab_type": "code",
    "executionInfo": {
     "elapsed": 1793,
     "status": "ok",
     "timestamp": 1561077750065,
     "user": {
      "displayName": "Tahoe Software, Inc.",
      "photoUrl": "https://lh3.googleusercontent.com/-p2FrFpD_hQk/AAAAAAAAAAI/AAAAAAAAAkU/Qol50T4G-Pc/s64/photo.jpg",
      "userId": "11714338394019695389"
     },
     "user_tz": 300
    },
    "id": "Ce0L5sPtuaMy",
    "outputId": "666de4ac-0e81-4d15-d337-291d4db9fa62"
   },
   "outputs": [
    {
     "data": {
      "text/plain": [
       "(28350, 17)"
      ]
     },
     "execution_count": 4,
     "metadata": {},
     "output_type": "execute_result"
    }
   ],
   "source": [
    "# Load S&P 500 df\n",
    "df_quake_sp500 = pd.read_csv(\"https://raw.githubusercontent.com/labs13-quake-viewer/ds-data/master/\" +\n",
    "                             \"S&P%20500%20Price%20Change%20by%20Earthquake(5.5+).csv\", index_col=0)\n",
    "\n",
    "df_quake_sp500.shape"
   ]
  },
  {
   "cell_type": "code",
   "execution_count": 5,
   "metadata": {
    "colab": {
     "base_uri": "https://localhost:8080/",
     "height": 397
    },
    "colab_type": "code",
    "executionInfo": {
     "elapsed": 358,
     "status": "ok",
     "timestamp": 1561077752068,
     "user": {
      "displayName": "Tahoe Software, Inc.",
      "photoUrl": "https://lh3.googleusercontent.com/-p2FrFpD_hQk/AAAAAAAAAAI/AAAAAAAAAkU/Qol50T4G-Pc/s64/photo.jpg",
      "userId": "11714338394019695389"
     },
     "user_tz": 300
    },
    "id": "z4dfryggb7hg",
    "outputId": "87fb0c6a-0fd7-4261-8baf-0a17a0b2c662"
   },
   "outputs": [
    {
     "data": {
      "text/html": [
       "<div>\n",
       "<style scoped>\n",
       "    .dataframe tbody tr th:only-of-type {\n",
       "        vertical-align: middle;\n",
       "    }\n",
       "\n",
       "    .dataframe tbody tr th {\n",
       "        vertical-align: top;\n",
       "    }\n",
       "\n",
       "    .dataframe thead th {\n",
       "        text-align: right;\n",
       "    }\n",
       "</style>\n",
       "<table border=\"1\" class=\"dataframe\">\n",
       "  <thead>\n",
       "    <tr style=\"text-align: right;\">\n",
       "      <th></th>\n",
       "      <th>Date</th>\n",
       "      <th>Mag</th>\n",
       "      <th>Lat</th>\n",
       "      <th>Long</th>\n",
       "      <th>Depth</th>\n",
       "      <th>magType</th>\n",
       "      <th>Place</th>\n",
       "      <th>Type</th>\n",
       "      <th>locationSource</th>\n",
       "      <th>magSource</th>\n",
       "      <th>Price_Day_0</th>\n",
       "      <th>Price_Day_7</th>\n",
       "      <th>Price_Day_14</th>\n",
       "      <th>Price_Day_30</th>\n",
       "      <th>Appr_Day_7</th>\n",
       "      <th>Appr_Day_14</th>\n",
       "      <th>Appr_Day_30</th>\n",
       "    </tr>\n",
       "  </thead>\n",
       "  <tbody>\n",
       "    <tr>\n",
       "      <th>0</th>\n",
       "      <td>1950-01-03</td>\n",
       "      <td>6.5</td>\n",
       "      <td>17.576</td>\n",
       "      <td>121.428</td>\n",
       "      <td>30.0</td>\n",
       "      <td>mw</td>\n",
       "      <td>Luzon, Philippines</td>\n",
       "      <td>earthquake</td>\n",
       "      <td>iscgem</td>\n",
       "      <td>iscgem</td>\n",
       "      <td>16.660000</td>\n",
       "      <td>17.030001</td>\n",
       "      <td>16.860001</td>\n",
       "      <td>17.230000</td>\n",
       "      <td>2.220894</td>\n",
       "      <td>1.200486</td>\n",
       "      <td>3.421369</td>\n",
       "    </tr>\n",
       "    <tr>\n",
       "      <th>1</th>\n",
       "      <td>1950-01-03</td>\n",
       "      <td>6.3</td>\n",
       "      <td>-45.798</td>\n",
       "      <td>-77.077</td>\n",
       "      <td>15.0</td>\n",
       "      <td>mw</td>\n",
       "      <td>off the coast of Aisen, Chile</td>\n",
       "      <td>earthquake</td>\n",
       "      <td>iscgem</td>\n",
       "      <td>iscgem</td>\n",
       "      <td>16.660000</td>\n",
       "      <td>17.030001</td>\n",
       "      <td>16.860001</td>\n",
       "      <td>17.230000</td>\n",
       "      <td>2.220894</td>\n",
       "      <td>1.200486</td>\n",
       "      <td>3.421369</td>\n",
       "    </tr>\n",
       "    <tr>\n",
       "      <th>2</th>\n",
       "      <td>1950-01-10</td>\n",
       "      <td>6.1</td>\n",
       "      <td>10.031</td>\n",
       "      <td>-103.964</td>\n",
       "      <td>15.0</td>\n",
       "      <td>mw</td>\n",
       "      <td>northern East Pacific Rise</td>\n",
       "      <td>earthquake</td>\n",
       "      <td>iscgem</td>\n",
       "      <td>iscgem</td>\n",
       "      <td>17.030001</td>\n",
       "      <td>16.860001</td>\n",
       "      <td>16.860001</td>\n",
       "      <td>17.280001</td>\n",
       "      <td>-0.998238</td>\n",
       "      <td>-0.998238</td>\n",
       "      <td>1.467998</td>\n",
       "    </tr>\n",
       "    <tr>\n",
       "      <th>3</th>\n",
       "      <td>1950-01-19</td>\n",
       "      <td>5.7</td>\n",
       "      <td>27.255</td>\n",
       "      <td>53.029</td>\n",
       "      <td>15.0</td>\n",
       "      <td>mw</td>\n",
       "      <td>southern Iran</td>\n",
       "      <td>earthquake</td>\n",
       "      <td>iscgem</td>\n",
       "      <td>iscgem</td>\n",
       "      <td>16.870001</td>\n",
       "      <td>16.730000</td>\n",
       "      <td>17.230000</td>\n",
       "      <td>17.200001</td>\n",
       "      <td>-0.829881</td>\n",
       "      <td>2.133960</td>\n",
       "      <td>1.956135</td>\n",
       "    </tr>\n",
       "    <tr>\n",
       "      <th>4</th>\n",
       "      <td>1950-01-22</td>\n",
       "      <td>5.7</td>\n",
       "      <td>27.096</td>\n",
       "      <td>52.946</td>\n",
       "      <td>15.0</td>\n",
       "      <td>mw</td>\n",
       "      <td>southern Iran</td>\n",
       "      <td>earthquake</td>\n",
       "      <td>iscgem</td>\n",
       "      <td>iscgem</td>\n",
       "      <td>16.920000</td>\n",
       "      <td>17.020000</td>\n",
       "      <td>17.320000</td>\n",
       "      <td>17.170000</td>\n",
       "      <td>0.591017</td>\n",
       "      <td>2.364066</td>\n",
       "      <td>1.477541</td>\n",
       "    </tr>\n",
       "  </tbody>\n",
       "</table>\n",
       "</div>"
      ],
      "text/plain": [
       "         Date  Mag     Lat     Long  Depth magType  \\\n",
       "0  1950-01-03  6.5  17.576  121.428   30.0      mw   \n",
       "1  1950-01-03  6.3 -45.798  -77.077   15.0      mw   \n",
       "2  1950-01-10  6.1  10.031 -103.964   15.0      mw   \n",
       "3  1950-01-19  5.7  27.255   53.029   15.0      mw   \n",
       "4  1950-01-22  5.7  27.096   52.946   15.0      mw   \n",
       "\n",
       "                           Place        Type locationSource magSource  \\\n",
       "0             Luzon, Philippines  earthquake         iscgem    iscgem   \n",
       "1  off the coast of Aisen, Chile  earthquake         iscgem    iscgem   \n",
       "2     northern East Pacific Rise  earthquake         iscgem    iscgem   \n",
       "3                  southern Iran  earthquake         iscgem    iscgem   \n",
       "4                  southern Iran  earthquake         iscgem    iscgem   \n",
       "\n",
       "   Price_Day_0  Price_Day_7  Price_Day_14  Price_Day_30  Appr_Day_7  \\\n",
       "0    16.660000    17.030001     16.860001     17.230000    2.220894   \n",
       "1    16.660000    17.030001     16.860001     17.230000    2.220894   \n",
       "2    17.030001    16.860001     16.860001     17.280001   -0.998238   \n",
       "3    16.870001    16.730000     17.230000     17.200001   -0.829881   \n",
       "4    16.920000    17.020000     17.320000     17.170000    0.591017   \n",
       "\n",
       "   Appr_Day_14  Appr_Day_30  \n",
       "0     1.200486     3.421369  \n",
       "1     1.200486     3.421369  \n",
       "2    -0.998238     1.467998  \n",
       "3     2.133960     1.956135  \n",
       "4     2.364066     1.477541  "
      ]
     },
     "execution_count": 5,
     "metadata": {},
     "output_type": "execute_result"
    }
   ],
   "source": [
    "df_quake_sp500.head()"
   ]
  },
  {
   "cell_type": "code",
   "execution_count": 6,
   "metadata": {
    "colab": {},
    "colab_type": "code",
    "id": "e2ovujy9wfcw"
   },
   "outputs": [],
   "source": [
    "dates = []\n",
    "for i in df_quake_sp500.Date:\n",
    "  dates.append(int(''.join(c for c in i if c.isdigit())))"
   ]
  },
  {
   "cell_type": "code",
   "execution_count": 7,
   "metadata": {
    "colab": {},
    "colab_type": "code",
    "id": "a5SH-G0E1ZYb"
   },
   "outputs": [],
   "source": [
    "df_quake_sp500[\"magg\"] = (df_quake_sp500[\"Mag\"] * 10).astype(int)"
   ]
  },
  {
   "cell_type": "code",
   "execution_count": 8,
   "metadata": {
    "colab": {},
    "colab_type": "code",
    "id": "pcJ70PWkyKs_"
   },
   "outputs": [],
   "source": [
    "df_quake_sp500[\"dates\"] = dates"
   ]
  },
  {
   "cell_type": "code",
   "execution_count": 9,
   "metadata": {
    "colab": {
     "base_uri": "https://localhost:8080/",
     "height": 425
    },
    "colab_type": "code",
    "executionInfo": {
     "elapsed": 319,
     "status": "ok",
     "timestamp": 1561077761555,
     "user": {
      "displayName": "Tahoe Software, Inc.",
      "photoUrl": "https://lh3.googleusercontent.com/-p2FrFpD_hQk/AAAAAAAAAAI/AAAAAAAAAkU/Qol50T4G-Pc/s64/photo.jpg",
      "userId": "11714338394019695389"
     },
     "user_tz": 300
    },
    "id": "FP0Qss2_6bKU",
    "outputId": "817130ac-9745-4d73-84d6-9a1ab010ecc8"
   },
   "outputs": [
    {
     "name": "stdout",
     "output_type": "stream",
     "text": [
      "<class 'pandas.core.frame.DataFrame'>\n",
      "Int64Index: 28350 entries, 0 to 28349\n",
      "Data columns (total 19 columns):\n",
      "Date              28350 non-null object\n",
      "Mag               28350 non-null float64\n",
      "Lat               28350 non-null float64\n",
      "Long              28350 non-null float64\n",
      "Depth             28350 non-null float64\n",
      "magType           28350 non-null object\n",
      "Place             28350 non-null object\n",
      "Type              28350 non-null object\n",
      "locationSource    28350 non-null object\n",
      "magSource         28350 non-null object\n",
      "Price_Day_0       28350 non-null float64\n",
      "Price_Day_7       28350 non-null float64\n",
      "Price_Day_14      28350 non-null float64\n",
      "Price_Day_30      28350 non-null float64\n",
      "Appr_Day_7        28350 non-null float64\n",
      "Appr_Day_14       28350 non-null float64\n",
      "Appr_Day_30       28350 non-null float64\n",
      "magg              28350 non-null int64\n",
      "dates             28350 non-null int64\n",
      "dtypes: float64(11), int64(2), object(6)\n",
      "memory usage: 4.3+ MB\n"
     ]
    }
   ],
   "source": [
    "df_quake_sp500.info()"
   ]
  },
  {
   "cell_type": "code",
   "execution_count": 10,
   "metadata": {
    "colab": {
     "base_uri": "https://localhost:8080/",
     "height": 119
    },
    "colab_type": "code",
    "executionInfo": {
     "elapsed": 466,
     "status": "ok",
     "timestamp": 1561077765565,
     "user": {
      "displayName": "Tahoe Software, Inc.",
      "photoUrl": "https://lh3.googleusercontent.com/-p2FrFpD_hQk/AAAAAAAAAAI/AAAAAAAAAkU/Qol50T4G-Pc/s64/photo.jpg",
      "userId": "11714338394019695389"
     },
     "user_tz": 300
    },
    "id": "Kd9mYnMq-xOH",
    "outputId": "6016cf27-951c-4ba6-f394-dd383537aaa9"
   },
   "outputs": [
    {
     "name": "stdout",
     "output_type": "stream",
     "text": [
      "Original shape: (28350, 5) \n",
      "\n",
      "X_train shape: (21262, 5)\n",
      "X_test shape: (7088, 5)\n",
      "y_train shape: (21262,)\n",
      "y_test shape: (7088,)\n"
     ]
    }
   ],
   "source": [
    "y = df_quake_sp500['Appr_Day_30'].astype(str)\n",
    "X = df_quake_sp500[['dates', 'Mag', 'Lat', 'Long', 'Depth']]\n",
    "\n",
    "X_train, X_test, y_train, y_test = train_test_split(X, y, test_size=.25, random_state=42)\n",
    "print(\"Original shape:\", X.shape, \"\\n\")\n",
    "\n",
    "print(\"X_train shape:\", X_train.shape)\n",
    "print(\"X_test shape:\", X_test.shape)\n",
    "print(\"y_train shape:\", y_train.shape)\n",
    "print(\"y_test shape:\", y_test.shape)"
   ]
  },
  {
   "cell_type": "code",
   "execution_count": 11,
   "metadata": {
    "colab": {
     "base_uri": "https://localhost:8080/",
     "height": 80
    },
    "colab_type": "code",
    "executionInfo": {
     "elapsed": 230,
     "status": "ok",
     "timestamp": 1561077769476,
     "user": {
      "displayName": "Tahoe Software, Inc.",
      "photoUrl": "https://lh3.googleusercontent.com/-p2FrFpD_hQk/AAAAAAAAAAI/AAAAAAAAAkU/Qol50T4G-Pc/s64/photo.jpg",
      "userId": "11714338394019695389"
     },
     "user_tz": 300
    },
    "id": "QubjVvpLzp-D",
    "outputId": "b7622a72-5148-4e1e-a3e5-db29c0cceeda"
   },
   "outputs": [
    {
     "data": {
      "text/html": [
       "<div>\n",
       "<style scoped>\n",
       "    .dataframe tbody tr th:only-of-type {\n",
       "        vertical-align: middle;\n",
       "    }\n",
       "\n",
       "    .dataframe tbody tr th {\n",
       "        vertical-align: top;\n",
       "    }\n",
       "\n",
       "    .dataframe thead th {\n",
       "        text-align: right;\n",
       "    }\n",
       "</style>\n",
       "<table border=\"1\" class=\"dataframe\">\n",
       "  <thead>\n",
       "    <tr style=\"text-align: right;\">\n",
       "      <th></th>\n",
       "      <th>dates</th>\n",
       "      <th>Mag</th>\n",
       "      <th>Lat</th>\n",
       "      <th>Long</th>\n",
       "      <th>Depth</th>\n",
       "    </tr>\n",
       "  </thead>\n",
       "  <tbody>\n",
       "    <tr>\n",
       "      <th>24396</th>\n",
       "      <td>20110309</td>\n",
       "      <td>5.9</td>\n",
       "      <td>38.503</td>\n",
       "      <td>143.166</td>\n",
       "      <td>23.8</td>\n",
       "    </tr>\n",
       "  </tbody>\n",
       "</table>\n",
       "</div>"
      ],
      "text/plain": [
       "          dates  Mag     Lat     Long  Depth\n",
       "24396  20110309  5.9  38.503  143.166   23.8"
      ]
     },
     "execution_count": 11,
     "metadata": {},
     "output_type": "execute_result"
    }
   ],
   "source": [
    "X_train.sample()"
   ]
  },
  {
   "cell_type": "code",
   "execution_count": 12,
   "metadata": {
    "colab": {},
    "colab_type": "code",
    "id": "VL_3ZFVxY34r"
   },
   "outputs": [],
   "source": [
    "# Instantiate model with various parms\n",
    "xgb = XGBClassifier(objective = 'multi:softmax', booster = 'gbtree',\n",
    "                    nrounds = 'min.error.idx', num_class = 4,\n",
    "                    maximize = False, eval_metric = 'merror', eta = .2,\n",
    "                    max_depth = 4, colsample_bytree = .4, nthread = -1)"
   ]
  },
  {
   "cell_type": "code",
   "execution_count": 13,
   "metadata": {
    "colab": {},
    "colab_type": "code",
    "id": "jrlrFsm1Y_cm"
   },
   "outputs": [
    {
     "name": "stdout",
     "output_type": "stream",
     "text": [
      "CPU times: user 5d 20h 18min 51s, sys: 23.8 s, total: 5d 20h 19min 15s\n",
      "Wall time: 2h 15min 13s\n"
     ]
    },
    {
     "data": {
      "text/plain": [
       "XGBClassifier(base_score=0.5, booster='gbtree', colsample_bylevel=1,\n",
       "       colsample_bynode=1, colsample_bytree=0.4, eta=0.2,\n",
       "       eval_metric='merror', gamma=0, learning_rate=0.1, max_delta_step=0,\n",
       "       max_depth=4, maximize=False, min_child_weight=1, missing=None,\n",
       "       n_estimators=100, n_jobs=1, nrounds='min.error.idx', nthread=-1,\n",
       "       num_class=4, objective='multi:softprob', random_state=0,\n",
       "       reg_alpha=0, reg_lambda=1, scale_pos_weight=1, seed=None,\n",
       "       silent=None, subsample=1, verbosity=1)"
      ]
     },
     "execution_count": 13,
     "metadata": {},
     "output_type": "execute_result"
    }
   ],
   "source": [
    "%%time\n",
    "# Train model on training data\n",
    "xgb.fit(X_train, y_train)"
   ]
  },
  {
   "cell_type": "code",
   "execution_count": 14,
   "metadata": {
    "colab": {},
    "colab_type": "code",
    "id": "_lVC8F06fa5q"
   },
   "outputs": [
    {
     "name": "stdout",
     "output_type": "stream",
     "text": [
      "CPU times: user 4d 14h 52min 13s, sys: 2.12 s, total: 4d 14h 52min 15s\n",
      "Wall time: 1h 46min 16s\n"
     ]
    }
   ],
   "source": [
    "%%time\n",
    "score = xgb.score(X_train, y_train)"
   ]
  },
  {
   "cell_type": "code",
   "execution_count": 15,
   "metadata": {
    "colab": {},
    "colab_type": "code",
    "id": "5IYGWS9LZQcs"
   },
   "outputs": [
    {
     "name": "stdout",
     "output_type": "stream",
     "text": [
      "CPU times: user 1d 12h 37min 3s, sys: 708 ms, total: 1d 12h 37min 4s\n",
      "Wall time: 35min 3s\n"
     ]
    }
   ],
   "source": [
    "%%time\n",
    "# Use xgb's predict method on test data\n",
    "predictions = xgb.predict(X_test)"
   ]
  },
  {
   "cell_type": "code",
   "execution_count": 16,
   "metadata": {
    "colab": {},
    "colab_type": "code",
    "id": "D55oNxX4Zvqw"
   },
   "outputs": [],
   "source": [
    "# Calculate absolute errors\n",
    "errors = abs(predictions.astype('float64') - y_test.astype('float64'))"
   ]
  },
  {
   "cell_type": "code",
   "execution_count": 17,
   "metadata": {
    "colab": {
     "base_uri": "https://localhost:8080/",
     "height": 34
    },
    "colab_type": "code",
    "executionInfo": {
     "elapsed": 251,
     "status": "ok",
     "timestamp": 1561062089135,
     "user": {
      "displayName": "Tahoe Software, Inc.",
      "photoUrl": "https://lh3.googleusercontent.com/-p2FrFpD_hQk/AAAAAAAAAAI/AAAAAAAAAkU/Qol50T4G-Pc/s64/photo.jpg",
      "userId": "11714338394019695389"
     },
     "user_tz": 300
    },
    "id": "M2A_rs8PaXpq",
    "outputId": "1eb7cdb1-4f45-406c-d173-9680053ecae4"
   },
   "outputs": [
    {
     "name": "stdout",
     "output_type": "stream",
     "text": [
      "Mean Absolute Error: 3.49 degrees.\n"
     ]
    }
   ],
   "source": [
    "# Print out mean absolute error\n",
    "print('Mean Absolute Error:', round(np.mean(errors), 2), 'degrees.')"
   ]
  },
  {
   "cell_type": "code",
   "execution_count": 18,
   "metadata": {
    "colab": {
     "base_uri": "https://localhost:8080/",
     "height": 34
    },
    "colab_type": "code",
    "executionInfo": {
     "elapsed": 265,
     "status": "ok",
     "timestamp": 1561062091119,
     "user": {
      "displayName": "Tahoe Software, Inc.",
      "photoUrl": "https://lh3.googleusercontent.com/-p2FrFpD_hQk/AAAAAAAAAAI/AAAAAAAAAkU/Qol50T4G-Pc/s64/photo.jpg",
      "userId": "11714338394019695389"
     },
     "user_tz": 300
    },
    "id": "m36Q-MYXavAz",
    "outputId": "9c49fa31-7539-4f51-abbc-ccd8365f8287"
   },
   "outputs": [
    {
     "name": "stdout",
     "output_type": "stream",
     "text": [
      "For S&P 500, Incident Mag >= 5.5\n",
      "XGB Model Score: 0.44906405794374943\n",
      "XGB Model Predictive Accuracy: 5.12 %.\n"
     ]
    }
   ],
   "source": [
    "# Calculate and display accuracy\n",
    "accuracy = errors.sum() / y_test.astype('float64').sum()\n",
    "print(\"For S&P 500, Incident Mag >= 5.5\")\n",
    "print(\"XGB Model Score:\", score)\n",
    "print('XGB Model Predictive Accuracy:', round(accuracy, 2), '%.')"
   ]
  },
  {
   "cell_type": "code",
   "execution_count": null,
   "metadata": {},
   "outputs": [],
   "source": []
  }
 ],
 "metadata": {
  "colab": {
   "collapsed_sections": [],
   "name": "S&P500_XGBoost_Model_5.5+.ipynb",
   "provenance": [
    {
     "file_id": "1BuWi4w4GUJkWOCVK7W9KJXZ8YZygVpf9",
     "timestamp": 1561077346813
    },
    {
     "file_id": "1gxDDL8-jGOy0A2WO3VnHEm4wdGS4Xx71",
     "timestamp": 1561061836752
    },
    {
     "file_id": "1NiAW_PjY9ryvVGpCur5YHYMSWoW0XXG1",
     "timestamp": 1561058124594
    },
    {
     "file_id": "1oqE4KWnpm7Aj5h4ECpFYszshpv3oX59a",
     "timestamp": 1561043227397
    },
    {
     "file_id": "1MLCYLenKDvM_vlywZkpQYjBtfUzGsHP2",
     "timestamp": 1560956464162
    }
   ],
   "version": "0.3.2"
  },
  "kernelspec": {
   "display_name": "conda_amazonei_mxnet_p36",
   "language": "python",
   "name": "conda_amazonei_mxnet_p36"
  },
  "language_info": {
   "codemirror_mode": {
    "name": "ipython",
    "version": 3
   },
   "file_extension": ".py",
   "mimetype": "text/x-python",
   "name": "python",
   "nbconvert_exporter": "python",
   "pygments_lexer": "ipython3",
   "version": "3.6.5"
  }
 },
 "nbformat": 4,
 "nbformat_minor": 2
}
