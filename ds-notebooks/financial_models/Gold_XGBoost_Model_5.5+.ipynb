{
 "cells": [
  {
   "cell_type": "code",
   "execution_count": 1,
   "metadata": {},
   "outputs": [
    {
     "name": "stdout",
     "output_type": "stream",
     "text": [
      "Requirement already up-to-date: pip in /home/ec2-user/anaconda3/envs/python3/lib/python3.6/site-packages (19.1.1)\n"
     ]
    }
   ],
   "source": [
    "!pip install -U pip"
   ]
  },
  {
   "cell_type": "code",
   "execution_count": 2,
   "metadata": {},
   "outputs": [
    {
     "name": "stdout",
     "output_type": "stream",
     "text": [
      "Requirement already up-to-date: xgboost in /home/ec2-user/anaconda3/envs/python3/lib/python3.6/site-packages (0.90)\n",
      "Requirement already satisfied, skipping upgrade: scipy in /home/ec2-user/anaconda3/envs/python3/lib/python3.6/site-packages (from xgboost) (1.1.0)\n",
      "Requirement already satisfied, skipping upgrade: numpy in /home/ec2-user/anaconda3/envs/python3/lib/python3.6/site-packages (from xgboost) (1.15.4)\n"
     ]
    }
   ],
   "source": [
    "!pip install -U xgboost"
   ]
  },
  {
   "cell_type": "code",
   "execution_count": 3,
   "metadata": {
    "colab": {},
    "colab_type": "code",
    "id": "R0iis46JultV"
   },
   "outputs": [],
   "source": [
    "import numpy as np\n",
    "import pandas as pd\n",
    "from sklearn.model_selection import train_test_split\n",
    "from xgboost import XGBClassifier"
   ]
  },
  {
   "cell_type": "code",
   "execution_count": 4,
   "metadata": {
    "colab": {
     "base_uri": "https://localhost:8080/",
     "height": 34
    },
    "colab_type": "code",
    "executionInfo": {
     "elapsed": 668,
     "status": "ok",
     "timestamp": 1561077401962,
     "user": {
      "displayName": "Tahoe Software, Inc.",
      "photoUrl": "https://lh3.googleusercontent.com/-p2FrFpD_hQk/AAAAAAAAAAI/AAAAAAAAAkU/Qol50T4G-Pc/s64/photo.jpg",
      "userId": "11714338394019695389"
     },
     "user_tz": 300
    },
    "id": "Ce0L5sPtuaMy",
    "outputId": "b82ec032-2ba1-47fd-cea9-3db27a56461e"
   },
   "outputs": [
    {
     "data": {
      "text/plain": [
       "(23510, 17)"
      ]
     },
     "execution_count": 4,
     "metadata": {},
     "output_type": "execute_result"
    }
   ],
   "source": [
    "# Load S&P 500 df\n",
    "df_quake_gold = pd.read_csv(\"https://raw.githubusercontent.com/labs13-quake-viewer/ds-data/master/\" +\n",
    "                             \"Gold%20Price%20Change%20by%20Earthquake(5.5+).csv\", index_col=0)\n",
    "\n",
    "df_quake_gold.shape"
   ]
  },
  {
   "cell_type": "code",
   "execution_count": 5,
   "metadata": {
    "colab": {
     "base_uri": "https://localhost:8080/",
     "height": 482
    },
    "colab_type": "code",
    "executionInfo": {
     "elapsed": 334,
     "status": "ok",
     "timestamp": 1561077405250,
     "user": {
      "displayName": "Tahoe Software, Inc.",
      "photoUrl": "https://lh3.googleusercontent.com/-p2FrFpD_hQk/AAAAAAAAAAI/AAAAAAAAAkU/Qol50T4G-Pc/s64/photo.jpg",
      "userId": "11714338394019695389"
     },
     "user_tz": 300
    },
    "id": "z4dfryggb7hg",
    "outputId": "ee12a5d1-9632-4bf4-e917-208ade82b480"
   },
   "outputs": [
    {
     "data": {
      "text/html": [
       "<div>\n",
       "<style scoped>\n",
       "    .dataframe tbody tr th:only-of-type {\n",
       "        vertical-align: middle;\n",
       "    }\n",
       "\n",
       "    .dataframe tbody tr th {\n",
       "        vertical-align: top;\n",
       "    }\n",
       "\n",
       "    .dataframe thead th {\n",
       "        text-align: right;\n",
       "    }\n",
       "</style>\n",
       "<table border=\"1\" class=\"dataframe\">\n",
       "  <thead>\n",
       "    <tr style=\"text-align: right;\">\n",
       "      <th></th>\n",
       "      <th>Date</th>\n",
       "      <th>Mag</th>\n",
       "      <th>Lat</th>\n",
       "      <th>Long</th>\n",
       "      <th>Depth</th>\n",
       "      <th>magType</th>\n",
       "      <th>Place</th>\n",
       "      <th>Type</th>\n",
       "      <th>locationSource</th>\n",
       "      <th>magSource</th>\n",
       "      <th>Price_Day_0</th>\n",
       "      <th>Price_Day_7</th>\n",
       "      <th>Price_Day_14</th>\n",
       "      <th>Price_Day_30</th>\n",
       "      <th>Appr_Day_7</th>\n",
       "      <th>Appr_Day_14</th>\n",
       "      <th>Appr_Day_30</th>\n",
       "    </tr>\n",
       "  </thead>\n",
       "  <tbody>\n",
       "    <tr>\n",
       "      <th>0</th>\n",
       "      <td>1968-04-01</td>\n",
       "      <td>7.5</td>\n",
       "      <td>32.449000</td>\n",
       "      <td>132.269</td>\n",
       "      <td>34.2</td>\n",
       "      <td>mw</td>\n",
       "      <td>Shikoku, Japan</td>\n",
       "      <td>earthquake</td>\n",
       "      <td>iscgem</td>\n",
       "      <td>iscgem</td>\n",
       "      <td>37.70</td>\n",
       "      <td>37.05</td>\n",
       "      <td>38.00</td>\n",
       "      <td>39.2</td>\n",
       "      <td>-1.724138</td>\n",
       "      <td>0.795756</td>\n",
       "      <td>3.978780</td>\n",
       "    </tr>\n",
       "    <tr>\n",
       "      <th>1</th>\n",
       "      <td>1968-04-01</td>\n",
       "      <td>6.8</td>\n",
       "      <td>32.241000</td>\n",
       "      <td>132.136</td>\n",
       "      <td>30.0</td>\n",
       "      <td>mw</td>\n",
       "      <td>Shikoku, Japan</td>\n",
       "      <td>earthquake</td>\n",
       "      <td>iscgem</td>\n",
       "      <td>iscgem</td>\n",
       "      <td>37.70</td>\n",
       "      <td>37.05</td>\n",
       "      <td>38.00</td>\n",
       "      <td>39.2</td>\n",
       "      <td>-1.724138</td>\n",
       "      <td>0.795756</td>\n",
       "      <td>3.978780</td>\n",
       "    </tr>\n",
       "    <tr>\n",
       "      <th>2</th>\n",
       "      <td>1968-04-07</td>\n",
       "      <td>5.9</td>\n",
       "      <td>51.359000</td>\n",
       "      <td>176.550</td>\n",
       "      <td>36.4</td>\n",
       "      <td>mw</td>\n",
       "      <td>Rat Islands, Aleutian Islands, Alaska</td>\n",
       "      <td>earthquake</td>\n",
       "      <td>iscgem</td>\n",
       "      <td>iscgem</td>\n",
       "      <td>37.05</td>\n",
       "      <td>38.00</td>\n",
       "      <td>38.00</td>\n",
       "      <td>39.3</td>\n",
       "      <td>2.564103</td>\n",
       "      <td>2.564103</td>\n",
       "      <td>6.072874</td>\n",
       "    </tr>\n",
       "    <tr>\n",
       "      <th>3</th>\n",
       "      <td>1968-04-09</td>\n",
       "      <td>6.6</td>\n",
       "      <td>33.179833</td>\n",
       "      <td>-116.103</td>\n",
       "      <td>10.0</td>\n",
       "      <td>mw</td>\n",
       "      <td>5km NNE of Ocotillo Wells, CA</td>\n",
       "      <td>earthquake</td>\n",
       "      <td>ci</td>\n",
       "      <td>ci</td>\n",
       "      <td>37.50</td>\n",
       "      <td>38.00</td>\n",
       "      <td>38.40</td>\n",
       "      <td>39.7</td>\n",
       "      <td>1.333333</td>\n",
       "      <td>2.400000</td>\n",
       "      <td>5.866667</td>\n",
       "    </tr>\n",
       "    <tr>\n",
       "      <th>4</th>\n",
       "      <td>1968-04-14</td>\n",
       "      <td>5.6</td>\n",
       "      <td>33.514000</td>\n",
       "      <td>141.763</td>\n",
       "      <td>24.2</td>\n",
       "      <td>mw</td>\n",
       "      <td>off the east coast of Honshu, Japan</td>\n",
       "      <td>earthquake</td>\n",
       "      <td>iscgem</td>\n",
       "      <td>iscgem</td>\n",
       "      <td>38.00</td>\n",
       "      <td>38.00</td>\n",
       "      <td>38.75</td>\n",
       "      <td>39.8</td>\n",
       "      <td>0.000000</td>\n",
       "      <td>1.973684</td>\n",
       "      <td>4.736842</td>\n",
       "    </tr>\n",
       "  </tbody>\n",
       "</table>\n",
       "</div>"
      ],
      "text/plain": [
       "         Date  Mag        Lat     Long  Depth magType  \\\n",
       "0  1968-04-01  7.5  32.449000  132.269   34.2      mw   \n",
       "1  1968-04-01  6.8  32.241000  132.136   30.0      mw   \n",
       "2  1968-04-07  5.9  51.359000  176.550   36.4      mw   \n",
       "3  1968-04-09  6.6  33.179833 -116.103   10.0      mw   \n",
       "4  1968-04-14  5.6  33.514000  141.763   24.2      mw   \n",
       "\n",
       "                                   Place        Type locationSource magSource  \\\n",
       "0                         Shikoku, Japan  earthquake         iscgem    iscgem   \n",
       "1                         Shikoku, Japan  earthquake         iscgem    iscgem   \n",
       "2  Rat Islands, Aleutian Islands, Alaska  earthquake         iscgem    iscgem   \n",
       "3          5km NNE of Ocotillo Wells, CA  earthquake             ci        ci   \n",
       "4    off the east coast of Honshu, Japan  earthquake         iscgem    iscgem   \n",
       "\n",
       "   Price_Day_0  Price_Day_7  Price_Day_14  Price_Day_30  Appr_Day_7  \\\n",
       "0        37.70        37.05         38.00          39.2   -1.724138   \n",
       "1        37.70        37.05         38.00          39.2   -1.724138   \n",
       "2        37.05        38.00         38.00          39.3    2.564103   \n",
       "3        37.50        38.00         38.40          39.7    1.333333   \n",
       "4        38.00        38.00         38.75          39.8    0.000000   \n",
       "\n",
       "   Appr_Day_14  Appr_Day_30  \n",
       "0     0.795756     3.978780  \n",
       "1     0.795756     3.978780  \n",
       "2     2.564103     6.072874  \n",
       "3     2.400000     5.866667  \n",
       "4     1.973684     4.736842  "
      ]
     },
     "execution_count": 5,
     "metadata": {},
     "output_type": "execute_result"
    }
   ],
   "source": [
    "df_quake_gold.head()"
   ]
  },
  {
   "cell_type": "code",
   "execution_count": 6,
   "metadata": {
    "colab": {},
    "colab_type": "code",
    "id": "e2ovujy9wfcw"
   },
   "outputs": [],
   "source": [
    "dates = []\n",
    "for i in df_quake_gold.Date:\n",
    "  dates.append(int(''.join(c for c in i if c.isdigit())))"
   ]
  },
  {
   "cell_type": "code",
   "execution_count": 7,
   "metadata": {
    "colab": {},
    "colab_type": "code",
    "id": "a5SH-G0E1ZYb"
   },
   "outputs": [],
   "source": [
    "df_quake_gold[\"magg\"] = (df_quake_gold[\"Mag\"] * 10).astype(int)"
   ]
  },
  {
   "cell_type": "code",
   "execution_count": 8,
   "metadata": {
    "colab": {},
    "colab_type": "code",
    "id": "pcJ70PWkyKs_"
   },
   "outputs": [],
   "source": [
    "df_quake_gold[\"dates\"] = dates"
   ]
  },
  {
   "cell_type": "code",
   "execution_count": 9,
   "metadata": {
    "colab": {
     "base_uri": "https://localhost:8080/",
     "height": 425
    },
    "colab_type": "code",
    "executionInfo": {
     "elapsed": 337,
     "status": "ok",
     "timestamp": 1561077414930,
     "user": {
      "displayName": "Tahoe Software, Inc.",
      "photoUrl": "https://lh3.googleusercontent.com/-p2FrFpD_hQk/AAAAAAAAAAI/AAAAAAAAAkU/Qol50T4G-Pc/s64/photo.jpg",
      "userId": "11714338394019695389"
     },
     "user_tz": 300
    },
    "id": "FP0Qss2_6bKU",
    "outputId": "fa6776cb-80eb-4c37-9575-637b5c6a5a0d"
   },
   "outputs": [
    {
     "name": "stdout",
     "output_type": "stream",
     "text": [
      "<class 'pandas.core.frame.DataFrame'>\n",
      "Int64Index: 23510 entries, 0 to 23509\n",
      "Data columns (total 19 columns):\n",
      "Date              23510 non-null object\n",
      "Mag               23510 non-null float64\n",
      "Lat               23510 non-null float64\n",
      "Long              23510 non-null float64\n",
      "Depth             23510 non-null float64\n",
      "magType           23510 non-null object\n",
      "Place             23510 non-null object\n",
      "Type              23510 non-null object\n",
      "locationSource    23510 non-null object\n",
      "magSource         23510 non-null object\n",
      "Price_Day_0       23510 non-null float64\n",
      "Price_Day_7       23510 non-null float64\n",
      "Price_Day_14      23510 non-null float64\n",
      "Price_Day_30      23510 non-null float64\n",
      "Appr_Day_7        23510 non-null float64\n",
      "Appr_Day_14       23510 non-null float64\n",
      "Appr_Day_30       23510 non-null float64\n",
      "magg              23510 non-null int64\n",
      "dates             23510 non-null int64\n",
      "dtypes: float64(11), int64(2), object(6)\n",
      "memory usage: 3.6+ MB\n"
     ]
    }
   ],
   "source": [
    "df_quake_gold.info()"
   ]
  },
  {
   "cell_type": "code",
   "execution_count": 10,
   "metadata": {
    "colab": {
     "base_uri": "https://localhost:8080/",
     "height": 119
    },
    "colab_type": "code",
    "executionInfo": {
     "elapsed": 267,
     "status": "ok",
     "timestamp": 1561077459178,
     "user": {
      "displayName": "Tahoe Software, Inc.",
      "photoUrl": "https://lh3.googleusercontent.com/-p2FrFpD_hQk/AAAAAAAAAAI/AAAAAAAAAkU/Qol50T4G-Pc/s64/photo.jpg",
      "userId": "11714338394019695389"
     },
     "user_tz": 300
    },
    "id": "Kd9mYnMq-xOH",
    "outputId": "0056fae1-077a-477b-f764-07fbdd5c8a6c"
   },
   "outputs": [
    {
     "name": "stdout",
     "output_type": "stream",
     "text": [
      "Original shape: (23510, 5) \n",
      "\n",
      "X_train shape: (17632, 5)\n",
      "X_test shape: (5878, 5)\n",
      "y_train shape: (17632,)\n",
      "y_test shape: (5878,)\n"
     ]
    }
   ],
   "source": [
    "y = df_quake_gold['Appr_Day_30'].astype(str)\n",
    "X = df_quake_gold[['dates', 'Mag', 'Lat', 'Long', 'Depth']]\n",
    "\n",
    "X_train, X_test, y_train, y_test = train_test_split(X, y, test_size=.25, random_state=42)\n",
    "print(\"Original shape:\", X.shape, \"\\n\")\n",
    "\n",
    "print(\"X_train shape:\", X_train.shape)\n",
    "print(\"X_test shape:\", X_test.shape)\n",
    "print(\"y_train shape:\", y_train.shape)\n",
    "print(\"y_test shape:\", y_test.shape)"
   ]
  },
  {
   "cell_type": "code",
   "execution_count": 11,
   "metadata": {
    "colab": {
     "base_uri": "https://localhost:8080/",
     "height": 80
    },
    "colab_type": "code",
    "executionInfo": {
     "elapsed": 254,
     "status": "ok",
     "timestamp": 1561077463477,
     "user": {
      "displayName": "Tahoe Software, Inc.",
      "photoUrl": "https://lh3.googleusercontent.com/-p2FrFpD_hQk/AAAAAAAAAAI/AAAAAAAAAkU/Qol50T4G-Pc/s64/photo.jpg",
      "userId": "11714338394019695389"
     },
     "user_tz": 300
    },
    "id": "QubjVvpLzp-D",
    "outputId": "3f362bfe-954f-4fc1-ef4f-d60e8a647fca"
   },
   "outputs": [
    {
     "data": {
      "text/html": [
       "<div>\n",
       "<style scoped>\n",
       "    .dataframe tbody tr th:only-of-type {\n",
       "        vertical-align: middle;\n",
       "    }\n",
       "\n",
       "    .dataframe tbody tr th {\n",
       "        vertical-align: top;\n",
       "    }\n",
       "\n",
       "    .dataframe thead th {\n",
       "        text-align: right;\n",
       "    }\n",
       "</style>\n",
       "<table border=\"1\" class=\"dataframe\">\n",
       "  <thead>\n",
       "    <tr style=\"text-align: right;\">\n",
       "      <th></th>\n",
       "      <th>dates</th>\n",
       "      <th>Mag</th>\n",
       "      <th>Lat</th>\n",
       "      <th>Long</th>\n",
       "      <th>Depth</th>\n",
       "    </tr>\n",
       "  </thead>\n",
       "  <tbody>\n",
       "    <tr>\n",
       "      <th>1325</th>\n",
       "      <td>19720122</td>\n",
       "      <td>6.3</td>\n",
       "      <td>-20.435</td>\n",
       "      <td>172.94</td>\n",
       "      <td>20.0</td>\n",
       "    </tr>\n",
       "  </tbody>\n",
       "</table>\n",
       "</div>"
      ],
      "text/plain": [
       "         dates  Mag     Lat    Long  Depth\n",
       "1325  19720122  6.3 -20.435  172.94   20.0"
      ]
     },
     "execution_count": 11,
     "metadata": {},
     "output_type": "execute_result"
    }
   ],
   "source": [
    "X_train.sample()"
   ]
  },
  {
   "cell_type": "code",
   "execution_count": 12,
   "metadata": {
    "colab": {},
    "colab_type": "code",
    "id": "VL_3ZFVxY34r"
   },
   "outputs": [],
   "source": [
    "# Instantiate model with various parms\n",
    "xgb = XGBClassifier(objective = 'multi:softmax', booster = 'gbtree',\n",
    "                    nrounds = 'min.error.idx', num_class = 4,\n",
    "                    maximize = False, eval_metric = 'merror', eta = .2,\n",
    "                    max_depth = 4, colsample_bytree = .4, nthread = -1)"
   ]
  },
  {
   "cell_type": "code",
   "execution_count": 13,
   "metadata": {
    "colab": {},
    "colab_type": "code",
    "id": "jrlrFsm1Y_cm"
   },
   "outputs": [
    {
     "name": "stdout",
     "output_type": "stream",
     "text": [
      "CPU times: user 3d 6h 19min 13s, sys: 17.9 s, total: 3d 6h 19min 31s\n",
      "Wall time: 1h 15min 16s\n"
     ]
    },
    {
     "data": {
      "text/plain": [
       "XGBClassifier(base_score=0.5, booster='gbtree', colsample_bylevel=1,\n",
       "       colsample_bynode=1, colsample_bytree=0.4, eta=0.2,\n",
       "       eval_metric='merror', gamma=0, learning_rate=0.1, max_delta_step=0,\n",
       "       max_depth=4, maximize=False, min_child_weight=1, missing=None,\n",
       "       n_estimators=100, n_jobs=1, nrounds='min.error.idx', nthread=-1,\n",
       "       num_class=4, objective='multi:softprob', random_state=0,\n",
       "       reg_alpha=0, reg_lambda=1, scale_pos_weight=1, seed=None,\n",
       "       silent=None, subsample=1, verbosity=1)"
      ]
     },
     "execution_count": 13,
     "metadata": {},
     "output_type": "execute_result"
    }
   ],
   "source": [
    "%%time\n",
    "# Train model on training data\n",
    "xgb.fit(X_train, y_train)"
   ]
  },
  {
   "cell_type": "code",
   "execution_count": 14,
   "metadata": {
    "colab": {},
    "colab_type": "code",
    "id": "sGn6E_o6eZXg"
   },
   "outputs": [
    {
     "name": "stdout",
     "output_type": "stream",
     "text": [
      "CPU times: user 2d 10h 28min 15s, sys: 1.38 s, total: 2d 10h 28min 16s\n",
      "Wall time: 55min 33s\n"
     ]
    }
   ],
   "source": [
    "%%time\n",
    "score = xgb.score(X_train, y_train)"
   ]
  },
  {
   "cell_type": "code",
   "execution_count": 15,
   "metadata": {
    "colab": {},
    "colab_type": "code",
    "id": "5IYGWS9LZQcs"
   },
   "outputs": [
    {
     "name": "stdout",
     "output_type": "stream",
     "text": [
      "CPU times: user 19h 11min 41s, sys: 388 ms, total: 19h 11min 41s\n",
      "Wall time: 19min 8s\n"
     ]
    }
   ],
   "source": [
    "%%time\n",
    "# Use xgb's predict method on test data\n",
    "predictions = xgb.predict(X_test)"
   ]
  },
  {
   "cell_type": "code",
   "execution_count": 16,
   "metadata": {
    "colab": {},
    "colab_type": "code",
    "id": "D55oNxX4Zvqw"
   },
   "outputs": [],
   "source": [
    "# Calculate absolute errors\n",
    "errors = abs(predictions.astype('float64') - y_test.astype('float64'))"
   ]
  },
  {
   "cell_type": "code",
   "execution_count": 17,
   "metadata": {
    "colab": {
     "base_uri": "https://localhost:8080/",
     "height": 34
    },
    "colab_type": "code",
    "executionInfo": {
     "elapsed": 252,
     "status": "ok",
     "timestamp": 1561063076681,
     "user": {
      "displayName": "Tahoe Software, Inc.",
      "photoUrl": "https://lh3.googleusercontent.com/-p2FrFpD_hQk/AAAAAAAAAAI/AAAAAAAAAkU/Qol50T4G-Pc/s64/photo.jpg",
      "userId": "11714338394019695389"
     },
     "user_tz": 300
    },
    "id": "M2A_rs8PaXpq",
    "outputId": "5e19a4a0-9913-45d9-8664-11d509b20bc4"
   },
   "outputs": [
    {
     "name": "stdout",
     "output_type": "stream",
     "text": [
      "Mean Absolute Error: 4.12 degrees.\n"
     ]
    }
   ],
   "source": [
    "# Print out mean absolute error\n",
    "print('Mean Absolute Error:', round(np.mean(errors), 2), 'degrees.')"
   ]
  },
  {
   "cell_type": "code",
   "execution_count": 18,
   "metadata": {
    "colab": {
     "base_uri": "https://localhost:8080/",
     "height": 34
    },
    "colab_type": "code",
    "executionInfo": {
     "elapsed": 244,
     "status": "ok",
     "timestamp": 1561063079148,
     "user": {
      "displayName": "Tahoe Software, Inc.",
      "photoUrl": "https://lh3.googleusercontent.com/-p2FrFpD_hQk/AAAAAAAAAAI/AAAAAAAAAkU/Qol50T4G-Pc/s64/photo.jpg",
      "userId": "11714338394019695389"
     },
     "user_tz": 300
    },
    "id": "m36Q-MYXavAz",
    "outputId": "88eb6bb1-4881-40f8-bccb-a5005a27613e"
   },
   "outputs": [
    {
     "name": "stdout",
     "output_type": "stream",
     "text": [
      "For Gold, Incident Mag >= 5.5\n",
      "XGB Model Score: 0.48548094373865697\n",
      "XGB Model Predictive Accuracy: 6.05 %.\n"
     ]
    }
   ],
   "source": [
    "# Calculate and display accuracy\n",
    "accuracy = errors.sum() / y_test.astype('float64').sum()\n",
    "print(\"For Gold, Incident Mag >= 5.5\")\n",
    "print(\"XGB Model Score:\", score)\n",
    "print('XGB Model Predictive Accuracy:', round(accuracy, 2), '%.')"
   ]
  },
  {
   "cell_type": "code",
   "execution_count": null,
   "metadata": {},
   "outputs": [],
   "source": []
  }
 ],
 "metadata": {
  "colab": {
   "collapsed_sections": [],
   "name": "Gold_XGBoost_Model_5.5+.ipynb",
   "provenance": [
    {
     "file_id": "1ICRDPoIybxlafSuqkDlRY4K_eImjjWpm",
     "timestamp": 1561077245065
    },
    {
     "file_id": "1BuWi4w4GUJkWOCVK7W9KJXZ8YZygVpf9",
     "timestamp": 1561062943294
    },
    {
     "file_id": "1gxDDL8-jGOy0A2WO3VnHEm4wdGS4Xx71",
     "timestamp": 1561061836752
    },
    {
     "file_id": "1NiAW_PjY9ryvVGpCur5YHYMSWoW0XXG1",
     "timestamp": 1561058124594
    },
    {
     "file_id": "1oqE4KWnpm7Aj5h4ECpFYszshpv3oX59a",
     "timestamp": 1561043227397
    },
    {
     "file_id": "1MLCYLenKDvM_vlywZkpQYjBtfUzGsHP2",
     "timestamp": 1560956464162
    }
   ],
   "version": "0.3.2"
  },
  "kernelspec": {
   "display_name": "conda_python3",
   "language": "python",
   "name": "conda_python3"
  },
  "language_info": {
   "codemirror_mode": {
    "name": "ipython",
    "version": 3
   },
   "file_extension": ".py",
   "mimetype": "text/x-python",
   "name": "python",
   "nbconvert_exporter": "python",
   "pygments_lexer": "ipython3",
   "version": "3.6.5"
  }
 },
 "nbformat": 4,
 "nbformat_minor": 2
}
